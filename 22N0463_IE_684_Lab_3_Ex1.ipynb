{
  "nbformat": 4,
  "nbformat_minor": 0,
  "metadata": {
    "colab": {
      "provenance": []
    },
    "kernelspec": {
      "name": "python3",
      "display_name": "Python 3"
    }
  },
  "cells": [
    {
      "cell_type": "markdown",
      "metadata": {
        "id": "nVE0Xoa0Q5wE"
      },
      "source": [
        "$\\Large\\textbf{Lab 3.}$ $\\large\\textbf{Exercise 1.}$\n",
        "\n"
      ]
    },
    {
      "cell_type": "markdown",
      "metadata": {
        "id": "YVkab74DJsRL"
      },
      "source": [
        "In the last lab, when we tried to solve certain problems of the form $\\min_{\\mathbf{x} \\in {\\mathbb{R}}^n} f(\\mathbf{x})$ using gradient descent algorithm, we noticed that the algorithm needed a large number of iterations to find the minimizer. Today we will discuss some remedy measures for this issue.  "
      ]
    },
    {
      "cell_type": "markdown",
      "metadata": {
        "id": "b-Meohokl4xP"
      },
      "source": [
        "Consider the problem $\\min_{\\mathbf{x}} f(\\mathbf{x}) = 1500x_1^2 + 4x_1 x_2 +  x_2^2$. "
      ]
    },
    {
      "cell_type": "markdown",
      "metadata": {
        "id": "ZvWjvAgnXxS3"
      },
      "source": [
        "Note that the function $f(\\mathbf{x})$ is twice continuously differentiable. First let us investigate the Hessian $\\nabla^2 f(\\mathbf{x})$ of the function. \n",
        "\n",
        "Note that the Hessian $\\nabla^2 f(\\mathbf{x})$ of the function $f(\\mathbf{x})$ is positive definite. \n",
        "\n",
        "Due to the positive definite nature of the Hessian, we shall find the condition number of the Hessian given by $\\kappa\\left (\\nabla^2 f(\\mathbf{x}) \\right ) = \\frac{\\lambda_{\\max} \\left (\\nabla^2 f(\\mathbf{x}) \\right )}{\\lambda_{\\min} \\left (\\nabla^2 f(\\mathbf{x}) \\right )}$, where $\\lambda_{\\max}(\\mathbf{A})$ denotes the maximum eigen value of matrix $\\mathbf{A}$ and $\\lambda_{\\min}(\\mathbf{A})$ denotes the minimum eigen value of matrix $\\mathbf{A}$.  \n",
        "\n",
        "\n"
      ]
    },
    {
      "cell_type": "markdown",
      "metadata": {
        "id": "fLfdgrmxANif"
      },
      "source": [
        "$\\textbf{Question:}$ Write code to find the Hessian matrix of the function $f(\\mathbf{x}) = 1500x_1^2 + 4x_1 x_2 +  x_2^2$ and its condition number. "
      ]
    },
    {
      "cell_type": "code",
      "metadata": {
        "id": "72qwiJ0CDtOX"
      },
      "source": [
        "import numpy as np \n",
        "\n",
        "#method to find Hessian matrix: Complete the code\n",
        "def evalh(x): \n",
        "  assert type(x) is np.ndarray \n",
        "  assert len(x) == 2\n",
        "  return np.array([[3000,4],[4,2]])\n",
        "\n",
        "#method to find the condition number of any square matrix: : Complete the code\n",
        "def find_condition_number(A):\n",
        "  assert type(A) is np.ndarray\n",
        "  assert A.shape[0] == A.shape[1]\n",
        "  eig_max = max(np.linalg.eig(A)[0])\n",
        "  eig_min = min(np.linalg.eig(A)[0])\n",
        "  #print(eig_max, eig_min)"
      ],
      "execution_count": 63,
      "outputs": []
    },
    {
      "cell_type": "code",
      "source": [
        "#checking with an example\n",
        "B = np.array([[3000,4],[4,2]])\n",
        "find_condition_number(B)"
      ],
      "metadata": {
        "id": "747qX3XuM4X-"
      },
      "execution_count": 64,
      "outputs": []
    },
    {
      "cell_type": "markdown",
      "metadata": {
        "id": "g7ivDCuJRP9b"
      },
      "source": [
        "The condition number of the Hessian plays a major role in the progress of the iterates of gradient descent towards the optimal solution point. Typically a large value of the condition number indicates that the problem is $\\textbf{ill-conditioned}$ and hence leads to slow progress of the iterates towards the optimal solution point. Now we shall discuss a method which would help in better $\\textbf{conditioning}$ of the problem and hence would help in speeding up the progress of the iterates towards the optimal solution point. \n",
        "\n",
        "Let us first illustrate an equivalent transformation of the problem $\\min_{\\mathbf{x} \\in {\\mathbb{R}}^n} f(\\mathbf{x})$. Consider the transformation $\\mathbf{x}=\\mathbf{My}$ where $\\mathbf{M}\\in {\\mathbb{R}}^{n \\times n}$ is an invertible matrix and $\\mathbf{y} \\in {\\mathbb{R}}^n$ and consider the equivalent problem $\\min_{\\mathbf{y} \\in {\\mathbb{R}}^n} g(\\mathbf{y}) \\equiv \\min_{\\mathbf{y} \\in {\\mathbb{R}}^n} f(\\mathbf{My})$. \n",
        "\n",
        "$\\textbf{Check:}$ Why are the two problems $\\min_{\\mathbf{x} \\in {\\mathbb{R}}^n} f(\\mathbf{x})$ and $\\min_{\\mathbf{y} \\in {\\mathbb{R}}^n} g(\\mathbf{y})$  equivalent? \n",
        "\n",
        "Note that the gradient $\\nabla_{\\mathbf{y}} g(\\mathbf{y}) = \\mathbf{M}^\\top \\nabla_{\\mathbf{x}} f(\\mathbf{x})$ and the Hessian is $\\nabla^2_{\\mathbf{y}} g(\\mathbf{y}) = \\mathbf{M}^\\top \\nabla^2_{\\mathbf{x}} f(\\mathbf{x}) \\mathbf{M}$. \n",
        "\n",
        "Hence the gradient descent update to solve $\\min_{\\mathbf{y} \\in {\\mathbb{R}}^n} g(\\mathbf{y})$ becomes: \n",
        "\n",
        "\n",
        "\\begin{align}\n",
        "{\\mathbf{y}}^{k+1} &= {\\mathbf{y}}^{k} - \\eta \\nabla_{\\mathbf{y}} g({\\mathbf{y}}^{k}) \\\\\n",
        "\\end{align}\n",
        "\n",
        "Pre-multiplying by $\\mathbf{M}$, we have:\n",
        "\\begin{align}\n",
        "{\\mathbf{M}\\mathbf{y}}^{k+1} &= {\\mathbf{M}\\mathbf{y}}^{k} -  \\eta \\mathbf{M} \\nabla_{\\mathbf{y}} g({\\mathbf{y}}^{k})  \\\\\n",
        "\\implies \\mathbf{x}^{k+1} &= \\mathbf{x}^{k} - \\eta \\mathbf{MM}^\\top \\nabla_{\\mathbf{x}} f({\\mathbf{x}}^{k}) \n",
        "\\end{align}\n",
        "\n",
        "\n",
        "Letting $\\mathbf{D} = \\mathbf{MM}^\\top$, we see that the update is of the form:\n",
        "\\begin{align}\n",
        "\\mathbf{x}^{k+1} &= \\mathbf{x}^{k} - \\eta \\mathbf{D} \\nabla f({\\mathbf{x}}^{k}) \n",
        "\\end{align}\n",
        "\n",
        "Note that the matrix $\\mathbf{D}$ is symmetric and positive definite and hence can be written as $\\mathbf{D} = \\mathbf{B}^2$, where $\\mathbf{B}$ is also symmetric and positive definite. Denoting $\\mathbf{B}= \\mathbf{D}^{\\frac{1}{2}}$, we see that a useful choice for the matrix $\\mathbf{M}$ is $\\mathbf{M} = \\mathbf{B} = \\mathbf{D}^{\\frac{1}{2}}$. \n",
        "\n",
        "The matrix $\\mathbf{D}$ is called a $\\textbf{scaling}$ matrix and helps in scaling the Hessian. We will consider $\\mathbf{D}$ to be a diagonal matrix. Thus it would be useful to find a suitable candidate of the scaling matrix at each iteration which could help in significant progress of the iterates towards the optimal solution. \n",
        "\n",
        "\n"
      ]
    },
    {
      "cell_type": "markdown",
      "metadata": {
        "id": "ZgHGXcTYNXuw"
      },
      "source": [
        "This discussion leads to the following algorithm:\n",
        "\\begin{align}\n",
        "& \\textbf{Input:} \\text{ Starting point $x^0$, Stopping tolerance $\\tau$}  \\\\\n",
        "& \\textbf{Initialize } k=0 \\\\ \n",
        "& \\mathbf{p}^k =-\\nabla f(\\mathbf{x}^k) \\\\ \n",
        "&\\textbf{While } \\| \\mathbf{p}^k \\|_2 > \\tau \\text{ do:}  \\\\   \n",
        "&\\quad \\quad \\text{ Choose a suitable scaling matrix }\\mathbf{D}^k. \\\\ \n",
        "&\\quad \\quad \\eta^k = \\arg\\min_{\\eta\\geq 0} f(\\mathbf{x}^k + \\eta  \\mathbf{D}^k \\mathbf{p}^k) = \\arg\\min_{\\eta\\geq 0} f(\\mathbf{x}^k - \\eta  \\mathbf{D}^k \\nabla f(\\mathbf{x}^k)) \\\\\n",
        "&\\quad \\quad \\mathbf{x}^{k+1} = \\mathbf{x}^k + \\eta^k \\mathbf{D}^k \\mathbf{p}^k = \\mathbf{x}^k - \\eta^k  \\mathbf{D}^k \\nabla f(\\mathbf{x}^k)  \\\\ \n",
        "&\\quad \\quad k = {k+1} \\\\ \n",
        "&\\textbf{End While} \\\\\n",
        "&\\textbf{Output: } \\mathbf{x}^k\n",
        "\\end{align}"
      ]
    },
    {
      "cell_type": "markdown",
      "metadata": {
        "id": "3XvbzQ5LeJ_N"
      },
      "source": [
        "Note that the update step in the modified gradient descent scheme uses a scaled gradient. Thus it becomes important to set up some criteria for choosing the $\\mathbf{D}^k$ matrix in every iteration. In this exercise, we will assume $\\mathbf{D}^k$ to be a diagonal matrix. The following questions will help in designing a suitable $\\mathbf{D}^k$."
      ]
    },
    {
      "cell_type": "markdown",
      "metadata": {
        "id": "kC5h9vGOfLcr"
      },
      "source": [
        "$\\textbf{Question:}$ Based on our discussion on condition number and the derivation of the gradient descent scheme with scaling, can you identify and write down the matrix $\\mathbf{Q}$ whose condition number needs to be analyzed in the new gradient scheme with scaling? "
      ]
    },
    {
      "cell_type": "markdown",
      "metadata": {
        "id": "ZL8skZZIf8yd"
      },
      "source": [
        "$\\textbf{Your Answer:}$\n",
        "\n",
        "The Q matrix can be the hessian matrix $\\nabla_{\\mathbf{x}}g(y)$."
      ]
    },
    {
      "cell_type": "markdown",
      "metadata": {
        "id": "qrbWd2XigB2N"
      },
      "source": [
        "$\\textbf{Question:}$ Based on the matrix $\\mathbf{Q}$, can you come up with a useful choice for $\\mathbf{D}^k$ (assuming $\\mathbf{D}^k$ to be diagonal)?"
      ]
    },
    {
      "cell_type": "markdown",
      "metadata": {
        "id": "BTIH3LnUgRh6"
      },
      "source": [
        "$\\textbf{Your Answer:}$\n",
        "\n",
        "Since $D^k$ is diagonal it is the inverse of the hessian matrix of f(x) with non-diagonal elements being zero.\n",
        "\n",
        "$\\begin{aligned}\n",
        "\\mathbf{D}^k = \\begin{bmatrix} \\frac{1}{f_{x_1 x_1}} & 0\\\\ 0 & \\frac{1}{f_{x_2 x_2}} \\end{bmatrix}\n",
        "\\end{aligned}\n",
        "$, where $f_{x_1 x_1} = \\frac{\\partial^2f(\\mathbf{x})}{\\partial x_1^2}$ and  $f_{x_2 x_2} = \\frac{\\partial^2f(\\mathbf{x})}{\\partial x_2^2}$\n",
        "\n",
        "Based on the function given in this question, the matrix $\\mathbf{D}^k$ comes out to be $\\begin{bmatrix} \\frac{1}{3000} & 0\\\\ 0 & \\frac{1}{2} \\end{bmatrix}$"
      ]
    },
    {
      "cell_type": "markdown",
      "metadata": {
        "id": "YDNH0zgxgaPR"
      },
      "source": [
        "Write code to find the matrix $\\mathbf{D}^k$. "
      ]
    },
    {
      "cell_type": "code",
      "metadata": {
        "id": "KJq7tIgIRroP"
      },
      "source": [
        "#The method defines a way to construct D_k matrix used in scaling the gradient in the modified gradient descent scheme\n",
        "def compute_D_k(x):\n",
        "  assert type(x) is np.ndarray\n",
        "  assert len(x) == 2\n",
        "  #compute and return D_k\n",
        "  return np.array([[1/3000,0],[0,1/2]])\n",
        "  "
      ],
      "execution_count": 65,
      "outputs": []
    },
    {
      "cell_type": "code",
      "metadata": {
        "id": "GZjX2IwOR8_X"
      },
      "source": [
        "#Now we will define a Python function which will compute and return the objective function value \n",
        "def evalf(x):  \n",
        "  #Input: x is a numpy array of size 2 \n",
        "  assert type(x) is np.ndarray and len(x) == 2 #do not allow arbitrary arguments \n",
        "  #after checking if the argument is valid, we can compute the objective function value\n",
        "  #compute the function value and return it \n",
        "  return 1500*x[0]**2 + 4*x[0]*x[1] + x[1]**2\n",
        "  \n"
      ],
      "execution_count": 66,
      "outputs": []
    },
    {
      "cell_type": "code",
      "metadata": {
        "id": "6klpwtDra_I8"
      },
      "source": [
        "#Now we will define a Python function which will compute and return the gradient value as a numpy array \n",
        "def evalg(x):  \n",
        "  #Input: x is a numpy array of size 2 \n",
        "  assert type(x) is np.ndarray and len(x) == 2 #do not allow arbitrary arguments \n",
        "  #after checking if the argument is valid, we can compute the gradient value\n",
        "  #compute the gradient value and return it \n",
        "  return np.array([3000*x[0]+4*x[1], 4*x[0]+2*x[1]])\n",
        "  "
      ],
      "execution_count": 67,
      "outputs": []
    },
    {
      "cell_type": "code",
      "metadata": {
        "id": "f3blM08V0HOl"
      },
      "source": [
        "#Complete the module to compute the steplength by using the closed-form expression\n",
        "def compute_steplength_exact(gradf, A): #add appropriate arguments to the function \n",
        "  assert type(gradf) is np.ndarray and len(gradf) == 2 \n",
        "  assert type(A) is np.ndarray and A.shape[0] == 2 and  A.shape[1] == 2 #allow only a 2x2 array\n",
        "   \n",
        "  #Complete the code \n",
        "  t1 = np.matmul(gradf,gradf)/2\n",
        "  t2 = np.matmul(np.matmul(A,gradf),gradf)\n",
        "\n",
        "  step_length = t1/t2\n",
        "  \n",
        "  return step_length\n",
        "  "
      ],
      "execution_count": 68,
      "outputs": []
    },
    {
      "cell_type": "code",
      "metadata": {
        "id": "PGunDYy6Q21S"
      },
      "source": [
        "#Complete the module to compute the steplength by using the closed-form expression\n",
        "def compute_steplength_backtracking(x, gradf, alpha_start, rho, gamma): #add appropriate arguments to the function \n",
        "  assert type(x) is np.ndarray and len(gradf) == 2 \n",
        "  assert type(gradf) is np.ndarray and len(gradf) == 2 \n",
        "  #assert type(alpha_start) is float and alpha_start>=0. \n",
        "  assert type(rho) is float and rho>=0.\n",
        "  assert type(gamma) is float and gamma>=0. \n",
        "  \n",
        "  #Complete the code \n",
        "  alpha = alpha_start\n",
        "\n",
        "  while evalf(x+alpha*-gradf) > evalf(x) + gamma*alpha*np.matmul(gradf.transpose(),-gradf):\n",
        "    alpha = rho*alpha\n",
        "\n",
        "  return alpha\n",
        "  \n",
        "  "
      ],
      "execution_count": 69,
      "outputs": []
    },
    {
      "cell_type": "code",
      "metadata": {
        "id": "wqjdHM3eaHYf"
      },
      "source": [
        "def compute_steplength_backtracking_scaled_direction(x, gradf, direction, alpha_start, rho, gamma): #add appropriate arguments to the function \n",
        "  assert type(x) is np.ndarray and len(gradf) == 2 \n",
        "  assert type(gradf) is np.ndarray and len(gradf) == 2 \n",
        "  assert type(direction) is np.ndarray and len(direction) == 2 \n",
        "  #assert type(alpha_start) is float and alpha_start>=0. \n",
        "  assert type(rho) is float and rho>=0.\n",
        "  assert type(gamma) is float and gamma>=0. \n",
        "  \n",
        "  \n",
        "  \n",
        "  #Complete the code \n",
        "  alpha = alpha_start\n",
        "\n",
        "  while evalf(x+alpha*np.matmul(direction,(-gradf))) > evalf(x) + gamma*alpha*np.matmul(gradf.transpose(),np.matmul(direction,-gradf)):\n",
        "    alpha = rho*alpha\n",
        "\n",
        "  return alpha"
      ],
      "execution_count": 88,
      "outputs": []
    },
    {
      "cell_type": "code",
      "metadata": {
        "id": "GvLRu5s635ph"
      },
      "source": [
        "#line search type \n",
        "EXACT_LINE_SEARCH = 1\n",
        "BACKTRACKING_LINE_SEARCH = 2\n",
        "CONSTANT_STEP_LENGTH = 3"
      ],
      "execution_count": 71,
      "outputs": []
    },
    {
      "cell_type": "code",
      "metadata": {
        "id": "kdYW5nldqZU-"
      },
      "source": [
        "#complete the code for gradient descent to find the minimizer\n",
        "def find_minimizer_gd(start_x, tol, line_search_type, *args):\n",
        "  #Input: start_x is a numpy array of size 2, tol denotes the tolerance and is a positive float value\n",
        "  assert type(start_x) is np.ndarray and len(start_x) == 2 #do not allow arbitrary arguments \n",
        "  assert type(tol) is float and tol>=0 \n",
        "  \n",
        "  #Complete the code\n",
        "  A = np.array([[1500,2],[2,1]])\n",
        "  x = start_x\n",
        "  g_x = evalg(x)\n",
        "\n",
        "  if(line_search_type == BACKTRACKING_LINE_SEARCH):\n",
        "    alpha_start = args[0]\n",
        "    rho = args[1]\n",
        "    gamma = args[2]\n",
        "\n",
        "  k = 0\n",
        "  #print('iter:',k, ' x:', x, ' f(x):', evalf(x), ' grad at x:', g_x, ' gradient norm:', np.linalg.norm(g_x))\n",
        "\n",
        "  while (np.linalg.norm(g_x) > tol):\n",
        "    if(line_search_type == EXACT_LINE_SEARCH):\n",
        "      step_length = compute_steplength_exact(g_x, A)\n",
        "    elif line_search_type == BACKTRACKING_LINE_SEARCH:\n",
        "      step_length = compute_steplength_backtracking(x, g_x, alpha_start, rho, gamma)\n",
        "    elif line_search_type == EXACT_LINE_SEARCH:\n",
        "      step_length = compute_steplength_exact(g_x, A)\n",
        "    else:  \n",
        "      raise ValueError('Line search type unknown. Please check!')\n",
        "\n",
        "    x = np.subtract(x, np.multiply(step_length,g_x))\n",
        "    k += 1 #increment iteration\n",
        "    g_x = evalg(x) #compute gradient at new point\n",
        "\n",
        "    #print('iter:',k, ' x:', x, ' f(x):', evalf(x), ' grad at x:', g_x, ' gradient norm:', np.linalg.norm(g_x))\n",
        "  return x, k, evalf(x)   \n"
      ],
      "execution_count": 101,
      "outputs": []
    },
    {
      "cell_type": "code",
      "metadata": {
        "id": "3SCJdqivdpxx"
      },
      "source": [
        "#complete the code for gradient descent with scaling to find the minimizer\n",
        "\n",
        "def find_minimizer_gdscaling(start_x, tol, line_search_type, *args):\n",
        "  #Input: start_x is a numpy array of size 2, tol denotes the tolerance and is a positive float value\n",
        "  assert type(start_x) is np.ndarray and len(start_x) == 2 #do not allow arbitrary arguments \n",
        "  assert type(tol) is float and tol>=0 \n",
        "\n",
        "  #Complete the code \n",
        "  x = start_x\n",
        "  g_x = evalg(x)\n",
        "  d_k = compute_D_k(x)\n",
        "\n",
        "  alpha_start = args[0]\n",
        "  rho = args[1]\n",
        "  gamma = args[2]\n",
        "\n",
        "  k = 0\n",
        "  #print('iter:',k, ' x:', x, ' f(x):', evalf(x), ' grad at x:', g_x, ' gradient norm:', np.linalg.norm(g_x))\n",
        "\n",
        "  while (np.linalg.norm(g_x) > tol):\n",
        "    step_length = compute_steplength_backtracking_scaled_direction(x, g_x, d_k, alpha_start, rho, gamma)\n",
        "\n",
        "    x = np.subtract(x, np.multiply(step_length,np.matmul(d_k,g_x)))\n",
        "    k += 1 #increment iteration\n",
        "    g_x = evalg(x) #compute gradient at new point\n",
        "    d_k = compute_D_k(x)\n",
        "\n",
        "    #print('iter:',k, ' x:', x, ' f(x):', evalf(x), ' grad at x:', g_x, ' gradient norm:', np.linalg.norm(g_x))\n",
        "  return x, k, evalf(x)  "
      ],
      "execution_count": 73,
      "outputs": []
    },
    {
      "cell_type": "code",
      "metadata": {
        "id": "3hoak3jnHkXd"
      },
      "source": [
        "my_start_x = np.array([1.,4000.])\n",
        "my_tol= 1e-12"
      ],
      "execution_count": 74,
      "outputs": []
    },
    {
      "cell_type": "code",
      "metadata": {
        "id": "vgu4yasdJEKo",
        "colab": {
          "base_uri": "https://localhost:8080/"
        },
        "outputId": "6d7422cd-f80a-4fe6-ca74-3aceb557bf27"
      },
      "source": [
        "#check gradient descent with exact line search \n",
        "minimizer, no, objective = find_minimizer_gd(my_start_x, my_tol, EXACT_LINE_SEARCH)\n",
        "print('Minimizer: ',minimizer,'\\nNo. of iteration:',no,'\\nMinimum function value: ',objective)"
      ],
      "execution_count": 104,
      "outputs": [
        {
          "output_type": "stream",
          "name": "stdout",
          "text": [
            "Minimizer:  [-7.44595231e-16  4.61544291e-13] \n",
            "No. of iteration: 14075 \n",
            "Minimum function value:  2.1248011077913554e-25\n"
          ]
        }
      ]
    },
    {
      "cell_type": "code",
      "metadata": {
        "id": "U0_iOLVoQFYy",
        "colab": {
          "base_uri": "https://localhost:8080/"
        },
        "outputId": "fe6f435c-d314-46d6-d932-eeddbe3e2ad5"
      },
      "source": [
        "#check gradient descent with backtracking line search \n",
        "alpha_start = 1.\n",
        "rho = 0.5\n",
        "gamma = 0.5\n",
        "minimizer, no, objective = find_minimizer_gd(my_start_x, my_tol, BACKTRACKING_LINE_SEARCH, alpha_start, rho, gamma)\n",
        "print('Minimizer: ',minimizer,'\\nNo. of iteration:',no,'\\nMinimum function value: ',objective)"
      ],
      "execution_count": 103,
      "outputs": [
        {
          "output_type": "stream",
          "name": "stdout",
          "text": [
            "Minimizer:  [-4.78532202e-16  4.53575301e-13] \n",
            "No. of iteration: 21985 \n",
            "Minimum function value:  2.0520584176089396e-25\n"
          ]
        }
      ]
    },
    {
      "cell_type": "code",
      "metadata": {
        "id": "KpABILpQxPKD",
        "colab": {
          "base_uri": "https://localhost:8080/"
        },
        "outputId": "7892e83f-d1f6-4725-82fd-90bbe0601453"
      },
      "source": [
        "#check gradient descent with scaling and backtracking line search \n",
        "alpha_start = 1.\n",
        "rho = 0.5\n",
        "gamma = 0.5\n",
        "minimizer, no, objective = find_minimizer_gdscaling(my_start_x, my_tol, BACKTRACKING_LINE_SEARCH, alpha_start, rho, gamma)\n",
        "print('Minimizer: ',minimizer,'\\nNo. of iteration:',no,'\\nMinimum function value: ',objective)"
      ],
      "execution_count": 105,
      "outputs": [
        {
          "output_type": "stream",
          "name": "stdout",
          "text": [
            "Minimizer:  [-2.31674405e-18  9.60515434e-16] \n",
            "No. of iteration: 16 \n",
            "Minimum function value:  9.217397790469283e-31\n"
          ]
        }
      ]
    },
    {
      "cell_type": "markdown",
      "source": [
        "**Answer 9**"
      ],
      "metadata": {
        "id": "1chVXXVisO-_"
      }
    },
    {
      "cell_type": "code",
      "source": [
        "alpha = [1, 0.9, 0.75, 0.6, 0.5, 0.4, 0.25, 0.1, 0.01]\n",
        "iter_list = []\n",
        "print('alpha' + '\\t\\tMinimizer' + '\\t\\t\\t\\tNo. of iterations' + '\\t\\t Objective Value')\n",
        "for i in alpha:\n",
        "  minimizer, no, objective = find_minimizer_gd(my_start_x, my_tol, BACKTRACKING_LINE_SEARCH, i , rho, gamma)\n",
        "  iter_list.append(no)\n",
        "  print(i, '\\t', minimizer, '\\t\\t', no, '\\t\\t\\t', objective)"
      ],
      "metadata": {
        "colab": {
          "base_uri": "https://localhost:8080/"
        },
        "id": "k-M2_e-0RjGT",
        "outputId": "c0b13870-7dc2-4b1b-e74d-e0847c4dcdd4"
      },
      "execution_count": 102,
      "outputs": [
        {
          "output_type": "stream",
          "name": "stdout",
          "text": [
            "alpha\t\tMinimizer\t\t\t\tNo. of iterations\t\t Objective Value\n",
            "1 \t [-4.78532202e-16  4.53575301e-13] \t\t 21985 \t\t\t 2.0520584176089396e-25\n",
            "0.9 \t [-5.48799355e-16  4.71515450e-13] \t\t 15941 \t\t\t 2.2174352131747877e-25\n",
            "0.75 \t [-7.18643891e-16  4.89175378e-13] \t\t 6750 \t\t\t 2.386610528547938e-25\n",
            "0.6 \t [-6.07554226e-16  4.94036636e-13] \t\t 6887 \t\t\t 2.43425264283868e-25\n",
            "0.5 \t [-4.78532202e-16  4.53575301e-13] \t\t 21985 \t\t\t 2.0520584176089396e-25\n",
            "0.4 \t [-7.24091328e-16  4.84454819e-13] \t\t 11362 \t\t\t 2.3407977615582728e-25\n",
            "0.25 \t [-4.78532202e-16  4.53575301e-13] \t\t 21985 \t\t\t 2.0520584176089396e-25\n",
            "0.1 \t [-7.24091328e-16  4.84454819e-13] \t\t 11362 \t\t\t 2.3407977615582728e-25\n",
            "0.01 \t [-5.80852788e-16  4.86459735e-13] \t\t 5509 \t\t\t 2.3601891237044125e-25\n"
          ]
        }
      ]
    },
    {
      "cell_type": "code",
      "source": [
        "alpha = [1, 0.9, 0.75, 0.6, 0.5, 0.4, 0.25, 0.1, 0.01]\n",
        "iter_list1 = []\n",
        "print('alpha' + '\\t\\tMinimizer' + '\\t\\t\\t\\tNo. of iterations' + '\\t\\t Objective Value')\n",
        "for i in alpha:\n",
        "  minimizer, no, objective = find_minimizer_gdscaling(my_start_x, my_tol, BACKTRACKING_LINE_SEARCH, i , rho, gamma)\n",
        "  iter_list1.append(no)\n",
        "  print(i, '\\t', minimizer, '\\t\\t', no, '\\t\\t\\t', objective)"
      ],
      "metadata": {
        "colab": {
          "base_uri": "https://localhost:8080/"
        },
        "id": "N4zK06iBUCFU",
        "outputId": "2e241757-cefb-420a-eb72-04988c96c7ca"
      },
      "execution_count": 96,
      "outputs": [
        {
          "output_type": "stream",
          "name": "stdout",
          "text": [
            "alpha\t\tMinimizer\t\t\t\tNo. of iterations\t\t Objective Value\n",
            "1 \t [-2.31674405e-18  9.60515434e-16] \t\t 16 \t\t\t 9.217397790469283e-31\n",
            "0.9 \t [-1.54825431e-16  5.99636318e-15] \t\t 21 \t\t\t 6.819918471923904e-29\n",
            "0.75 \t [-2.78273450e-16  1.07784868e-14] \t\t 32 \t\t\t 2.203324807217381e-28\n",
            "0.6 \t [-3.37385169e-16  1.30849588e-14] \t\t 47 \t\t\t 3.2430059206322154e-28\n",
            "0.5 \t [-2.51144512e-16  9.75949896e-15] \t\t 62 \t\t\t 1.800539902805011e-28\n",
            "0.4 \t [-3.26530890e-16  1.27315971e-14] \t\t 83 \t\t\t 3.0539815808527928e-28\n",
            "0.25 \t [-2.68853026e-16  1.05480788e-14] \t\t 147 \t\t\t 2.0834135979657747e-28\n",
            "0.1 \t [-3.34815103e-16  1.32481337e-14] \t\t 397 \t\t\t 3.2592207464795465e-28\n",
            "0.01 \t [-3.51028779e-16  1.39670836e-14] \t\t 4146 \t\t\t 3.602998362211868e-28\n"
          ]
        }
      ]
    },
    {
      "cell_type": "code",
      "source": [
        "import matplotlib.pyplot as plt\n",
        "\n",
        "plt.plot(alpha, iter_list, label = 'Backtracking Line Search without scaling')\n",
        "plt.plot(alpha, iter_list1, label = 'Backtracking Line Search with scaling')\n",
        "plt.legend(bbox_to_anchor=(1, 0.35))\n",
        "plt.xlabel('alpha')\n",
        "plt.ylabel('Iterations')\n",
        "plt.show()"
      ],
      "metadata": {
        "colab": {
          "base_uri": "https://localhost:8080/",
          "height": 279
        },
        "id": "cbEBoNVxVBKc",
        "outputId": "3ee405dc-d26b-4467-9349-09f5d1c84778"
      },
      "execution_count": 97,
      "outputs": [
        {
          "output_type": "display_data",
          "data": {
            "text/plain": [
              "<Figure size 432x288 with 1 Axes>"
            ],
            "image/png": "[encoded data removed]"
          },
          "metadata": {
            "needs_background": "light"
          }
        }
      ]
    },
    {
      "cell_type": "markdown",
      "source": [
        "**Answer 10**"
      ],
      "metadata": {
        "id": "Xv1Ghn2osR_6"
      }
    },
    {
      "cell_type": "code",
      "source": [
        "rho1 = [0.9, 0.8, 0.75, 0.6, 0.5, 0.4, 0.25, 0.1, 0.01]\n",
        "iter_list2 = []\n",
        "print('rho' + '\\t\\tMinimizer' + '\\t\\t\\t\\tNo. of iterations' + '\\t\\t Objective Value')\n",
        "for i in rho1:\n",
        "  minimizer, no, objective = find_minimizer_gd(my_start_x, my_tol, BACKTRACKING_LINE_SEARCH, alpha_start , i, gamma)\n",
        "  iter_list2.append(no)\n",
        "  print(i, '\\t', minimizer, '\\t\\t', no, '\\t\\t\\t', objective)"
      ],
      "metadata": {
        "colab": {
          "base_uri": "https://localhost:8080/"
        },
        "id": "omO_fLFKW1ae",
        "outputId": "a93db54e-9f6b-458c-a8c2-f622db70d6fd"
      },
      "execution_count": 98,
      "outputs": [
        {
          "output_type": "stream",
          "name": "stdout",
          "text": [
            "rho\t\tMinimizer\t\t\t\tNo. of iterations\t\t Objective Value\n",
            "0.9 \t [-6.44686128e-16  4.90962904e-13] \t\t 127 \t\t\t 2.404019351870065e-25\n",
            "0.8 \t [-6.99968590e-16  4.40149178e-13] \t\t 1471 \t\t\t 1.932338703071826e-25\n",
            "0.75 \t [-7.15454842e-16  4.83616543e-13] \t\t 3135 \t\t\t 2.332687511412074e-25\n",
            "0.6 \t [-7.07691748e-16  4.70469643e-13] \t\t 15834 \t\t\t 2.2076113616544364e-25\n",
            "0.5 \t [-4.78532202e-16  4.53575301e-13] \t\t 21985 \t\t\t 2.0520584176089396e-25\n",
            "0.4 \t [-5.16461460e-16  4.67846629e-13] \t\t 20049 \t\t\t 2.1831406770108246e-25\n",
            "0.25 \t [-5.67128954e-16  4.70177132e-13] \t\t 24570 \t\t\t 2.204823842206756e-25\n",
            "0.1 \t [-4.35224428e-16  4.42644725e-13] \t\t 45435 \t\t\t 1.9544788340231146e-25\n",
            "0.01 \t [-6.03891924e-16  4.89972672e-13] \t\t 17463 \t\t\t 2.394366854291179e-25\n"
          ]
        }
      ]
    },
    {
      "cell_type": "code",
      "source": [
        "rho1 = [0.9, 0.8, 0.75, 0.6, 0.5, 0.4, 0.25, 0.1, 0.01]\n",
        "iter_list3 = []\n",
        "print('rho' + '\\t\\tMinimizer' + '\\t\\t\\t\\tNo. of iterations' + '\\t\\t Objective Value')\n",
        "for i in rho1:\n",
        "  minimizer, no, objective = find_minimizer_gdscaling(my_start_x, my_tol, BACKTRACKING_LINE_SEARCH, alpha_start , i, gamma)\n",
        "  iter_list3.append(no)\n",
        "  print(i, '\\t', minimizer, '\\t\\t', no, '\\t\\t\\t', objective)"
      ],
      "metadata": {
        "colab": {
          "base_uri": "https://localhost:8080/"
        },
        "id": "M0meVYX9XBL9",
        "outputId": "e9c219c3-3bc4-4254-ff03-fecca2b2a22e"
      },
      "execution_count": 99,
      "outputs": [
        {
          "output_type": "stream",
          "name": "stdout",
          "text": [
            "rho\t\tMinimizer\t\t\t\tNo. of iterations\t\t Objective Value\n",
            "0.9 \t [-1.90920422e-16  3.38018326e-15] \t\t 14 \t\t\t 6.352016622002106e-29\n",
            "0.8 \t [-3.89959677e-18  7.65599523e-16] \t\t 15 \t\t\t 5.970107943515186e-31\n",
            "0.75 \t [-3.59593964e-18  9.57478862e-16] \t\t 15 \t\t\t 9.223897999650174e-31\n",
            "0.6 \t [-2.68496827e-18  1.53311688e-15] \t\t 15 \t\t\t 2.3447954703965872e-30\n",
            "0.5 \t [-2.31674405e-18  9.60515434e-16] \t\t 16 \t\t\t 9.217397790469283e-31\n",
            "0.4 \t [-2.10920879e-18  1.38155681e-15] \t\t 16 \t\t\t 1.903716407388883e-30\n",
            "0.25 \t [-6.9534609e-16  4.5561674e-13] \t\t 16 \t\t\t 2.0704462793405916e-25\n",
            "0.1 \t [-6.22892805e-16  4.51919078e-13] \t\t 23 \t\t\t 2.0368685744853975e-25\n",
            "0.01 \t [-5.88632151e-16  4.39928337e-13] \t\t 130 \t\t\t 1.9302084997635662e-25\n"
          ]
        }
      ]
    },
    {
      "cell_type": "code",
      "source": [
        "import matplotlib.pyplot as plt\n",
        "\n",
        "plt.plot(rho1, iter_list2, label = 'Backtracking Line Search without scaling')\n",
        "plt.plot(rho1, iter_list3, label = 'Backtracking Line Search with scaling')\n",
        "plt.legend(bbox_to_anchor=(1, 0.35))\n",
        "plt.xlabel('rho')\n",
        "plt.ylabel('Iterations')\n",
        "plt.show()"
      ],
      "metadata": {
        "colab": {
          "base_uri": "https://localhost:8080/",
          "height": 279
        },
        "id": "WgXhpnbrXfYJ",
        "outputId": "24917d60-79df-457a-e6a4-7fcd63185248"
      },
      "execution_count": 100,
      "outputs": [
        {
          "output_type": "display_data",
          "data": {
            "text/plain": [
              "<Figure size 432x288 with 1 Axes>"
            ],
            "image/png": "[encoded data removed]"
          },
          "metadata": {
            "needs_background": "light"
          }
        }
      ]
    },
    {
      "cell_type": "markdown",
      "source": [
        "**Solution 7**"
      ],
      "metadata": {
        "id": "5OwqoqN2m3SF"
      }
    },
    {
      "cell_type": "markdown",
      "source": [
        "**Minimizer :** [-2.31674405e-18, 9.60515434e-16] ~ [0.0,0.0]\n",
        "\n",
        "**Minimum Function Value :** 9.217397790469283e-31 ~ 0.0\n",
        "\n",
        "The minimizer is obtained by differentiating $f(\\textbf{x})$ wrt.  $\\textbf{x}$ and equating it to $0$. We would get \n",
        "\\begin{aligned}\n",
        "\\nabla f(\\textbf{x}) = [3000x_1+4x_2, 4x_1 + 2x_2]^\\top = 0 \\\\\\implies 3000x_1+4x_2 &= 0\\\\\n",
        "\\text{and}\\;\\; 4x_1 + 2x_2 &= 0\n",
        "\\end{aligned}\n",
        "Solving the above set of equations, we get the minimizer $(x_1,x_2) = (0,0)$ and $f(\\textbf{x}) = f(x_1,x_2) = 0$."
      ],
      "metadata": {
        "id": "BJD1LoNhm6jK"
      }
    },
    {
      "cell_type": "markdown",
      "source": [
        "**Solution 8**"
      ],
      "metadata": {
        "id": "axuidBsooMiz"
      }
    },
    {
      "cell_type": "markdown",
      "source": [
        "**For exact line search**\n",
        "\n",
        "Minimizer:  [-7.44595231e-16  4.61544291e-13]\n",
        "\n",
        "No. of iteration: 14075 \n",
        "\n",
        "Minimum function value:  2.1248011077913554e-25\n",
        "\n",
        "**For backtracking line search (without scaling)**\n",
        "\n",
        "Minimizer:  [-4.78532202e-16  4.53575301e-13]\n",
        "\n",
        "No. of iteration: 21985 \n",
        "\n",
        "Minimum function value:  2.0520584176089396e-25\n",
        "\n",
        "**For backtracking line search (with scaling)**\n",
        "\n",
        "Minimizer:  [-2.31674405e-18  9.60515434e-16]\n",
        "\n",
        "No. of iteration: 16 \n",
        "\n",
        "Minimum function value:  9.217397790469283e-31\n",
        "\n",
        "**Observations:**\n",
        "\n",
        "We can observe that backtracking line search with scaling converges best, followed by exact line search and then backtracking line search without scaling. Backtracking line search without scaling takes the largest no. of iterations, over 50 times that of exact line search and over 1250 times that of backtracking line search with scaling."
      ],
      "metadata": {
        "id": "xcvTNd0CoOpB"
      }
    },
    {
      "cell_type": "markdown",
      "source": [
        "**Solution 9**"
      ],
      "metadata": {
        "id": "5Ihsvq9ToUiL"
      }
    },
    {
      "cell_type": "markdown",
      "source": [
        "All the values has been recorded above and the plot for iterations v/s alpha values has also been plotted.\n",
        "\n",
        "**Observations:**\n",
        "\n",
        "* We can observe through the plot above that no. of iterations for Backtracking Line Search without scaling does not follow any usual pattern when $\\alpha_0$\n",
        " reduces from 1.0 to 0.01. It always takes more no. of iterations than backtracking line search with scaling.\n",
        "\n",
        "* Backtracking Line Search with scaling takes more no. of iterations as the value of $\\alpha_0$\n",
        " reduces.\n",
        "\n",
        "* We can also observe that when $\\alpha_0$\n",
        " is 0.01, no. of iterations taken by both algorithms are very close.\n",
        "\n",
        "* As for the minimizer, we can observe that backtracking with scaling gives better results for $\\alpha_0 = 1.0$\n",
        " but gives similar results as that of backtracking without scaling as \n",
        " reduces. Still backtracking with scaling always has an edge over backtracking without scaling in both minimizer and minimimum function value."
      ],
      "metadata": {
        "id": "RBLnlr3BpfMp"
      }
    },
    {
      "cell_type": "markdown",
      "source": [
        "**Solution 10**"
      ],
      "metadata": {
        "id": "HeHGUFwCsHVn"
      }
    },
    {
      "cell_type": "markdown",
      "source": [
        "All the values has been recorded above and the plot for iterations v/s rho values has also been plotted.\n",
        "\n",
        "**Observations:**\n",
        "\n",
        "* We can observe through the plot above that no. of iterations for Backtracking Line Search without scaling tend to increase as $\\rho$\n",
        " reduces. It always takes more no. of iterations than backtracking line search with scaling.\n",
        "\n",
        "* No. of iterations for Backtracking Line Search with scaling increase very slowly as $\\rho$\n",
        " reduces.\n",
        "\n",
        "* As for the minimizer, we can observe that backtracking with scaling gives better results for $\\rho >= 4.0$\n",
        " but gives similar results as that of backtracking without scaling for other values of $\\rho$."
      ],
      "metadata": {
        "id": "3xEKsi6NsJHd"
      }
    }
  ]
}