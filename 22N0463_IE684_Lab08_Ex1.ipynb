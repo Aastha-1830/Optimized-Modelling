{
  "nbformat": 4,
  "nbformat_minor": 0,
  "metadata": {
    "colab": {
      "provenance": []
    },
    "kernelspec": {
      "name": "python3",
      "display_name": "Python 3"
    },
    "language_info": {
      "name": "python"
    }
  },
  "cells": [
    {
      "cell_type": "code",
      "execution_count": null,
      "metadata": {
        "id": "_9TCgc5AYkvR"
      },
      "outputs": [],
      "source": [
        "import numpy as np\n",
        "import pandas as pd"
      ]
    },
    {
      "cell_type": "code",
      "source": [
        "#read data\n",
        "data=pd.read_csv('haberman.data',sep=',',header=None)"
      ],
      "metadata": {
        "id": "zDR84_fBY129"
      },
      "execution_count": null,
      "outputs": []
    },
    {
      "cell_type": "code",
      "source": [
        "#asssign rlevant column names\n",
        "data.columns=['age','year_of_operation','positive_axillary_nodes','survival_status']"
      ],
      "metadata": {
        "id": "1NeHZQOiY77z"
      },
      "execution_count": null,
      "outputs": []
    },
    {
      "cell_type": "code",
      "source": [
        "data.head()"
      ],
      "metadata": {
        "colab": {
          "base_uri": "https://localhost:8080/",
          "height": 206
        },
        "id": "n8yB1FScZDSL",
        "outputId": "d928a15c-388b-4a1f-95f7-63c0da8e970c"
      },
      "execution_count": null,
      "outputs": [
        {
          "output_type": "execute_result",
          "data": {
            "text/plain": [
              "   age  year_of_operation  positive_axillary_nodes  survival_status\n",
              "0   30                 64                        1                1\n",
              "1   30                 62                        3                1\n",
              "2   30                 65                        0                1\n",
              "3   31                 59                        2                1\n",
              "4   31                 65                        4                1"
            ],
            "text/html": [
              "\n",
              "  <div id=\"df-5fa5aa86-d367-4fcd-b831-335e0c78fd6a\">\n",
              "    <div class=\"colab-df-container\">\n",
              "      <div>\n",
              "<style scoped>\n",
              "    .dataframe tbody tr th:only-of-type {\n",
              "        vertical-align: middle;\n",
              "    }\n",
              "\n",
              "    .dataframe tbody tr th {\n",
              "        vertical-align: top;\n",
              "    }\n",
              "\n",
              "    .dataframe thead th {\n",
              "        text-align: right;\n",
              "    }\n",
              "</style>\n",
              "<table border=\"1\" class=\"dataframe\">\n",
              "  <thead>\n",
              "    <tr style=\"text-align: right;\">\n",
              "      <th></th>\n",
              "      <th>age</th>\n",
              "      <th>year_of_operation</th>\n",
              "      <th>positive_axillary_nodes</th>\n",
              "      <th>survival_status</th>\n",
              "    </tr>\n",
              "  </thead>\n",
              "  <tbody>\n",
              "    <tr>\n",
              "      <th>0</th>\n",
              "      <td>30</td>\n",
              "      <td>64</td>\n",
              "      <td>1</td>\n",
              "      <td>1</td>\n",
              "    </tr>\n",
              "    <tr>\n",
              "      <th>1</th>\n",
              "      <td>30</td>\n",
              "      <td>62</td>\n",
              "      <td>3</td>\n",
              "      <td>1</td>\n",
              "    </tr>\n",
              "    <tr>\n",
              "      <th>2</th>\n",
              "      <td>30</td>\n",
              "      <td>65</td>\n",
              "      <td>0</td>\n",
              "      <td>1</td>\n",
              "    </tr>\n",
              "    <tr>\n",
              "      <th>3</th>\n",
              "      <td>31</td>\n",
              "      <td>59</td>\n",
              "      <td>2</td>\n",
              "      <td>1</td>\n",
              "    </tr>\n",
              "    <tr>\n",
              "      <th>4</th>\n",
              "      <td>31</td>\n",
              "      <td>65</td>\n",
              "      <td>4</td>\n",
              "      <td>1</td>\n",
              "    </tr>\n",
              "  </tbody>\n",
              "</table>\n",
              "</div>\n",
              "      <button class=\"colab-df-convert\" onclick=\"convertToInteractive('df-5fa5aa86-d367-4fcd-b831-335e0c78fd6a')\"\n",
              "              title=\"Convert this dataframe to an interactive table.\"\n",
              "              style=\"display:none;\">\n",
              "        \n",
              "  <svg xmlns=\"http://www.w3.org/2000/svg\" height=\"24px\"viewBox=\"0 0 24 24\"\n",
              "       width=\"24px\">\n",
              "    <path d=\"M0 0h24v24H0V0z\" fill=\"none\"/>\n",
              "    <path d=\"M18.56 5.44l.94 2.06.94-2.06 2.06-.94-2.06-.94-.94-2.06-.94 2.06-2.06.94zm-11 1L8.5 8.5l.94-2.06 2.06-.94-2.06-.94L8.5 2.5l-.94 2.06-2.06.94zm10 10l.94 2.06.94-2.06 2.06-.94-2.06-.94-.94-2.06-.94 2.06-2.06.94z\"/><path d=\"M17.41 7.96l-1.37-1.37c-.4-.4-.92-.59-1.43-.59-.52 0-1.04.2-1.43.59L10.3 9.45l-7.72 7.72c-.78.78-.78 2.05 0 2.83L4 21.41c.39.39.9.59 1.41.59.51 0 1.02-.2 1.41-.59l7.78-7.78 2.81-2.81c.8-.78.8-2.07 0-2.86zM5.41 20L4 18.59l7.72-7.72 1.47 1.35L5.41 20z\"/>\n",
              "  </svg>\n",
              "      </button>\n",
              "      \n",
              "  <style>\n",
              "    .colab-df-container {\n",
              "      display:flex;\n",
              "      flex-wrap:wrap;\n",
              "      gap: 12px;\n",
              "    }\n",
              "\n",
              "    .colab-df-convert {\n",
              "      background-color: #E8F0FE;\n",
              "      border: none;\n",
              "      border-radius: 50%;\n",
              "      cursor: pointer;\n",
              "      display: none;\n",
              "      fill: #1967D2;\n",
              "      height: 32px;\n",
              "      padding: 0 0 0 0;\n",
              "      width: 32px;\n",
              "    }\n",
              "\n",
              "    .colab-df-convert:hover {\n",
              "      background-color: #E2EBFA;\n",
              "      box-shadow: 0px 1px 2px rgba(60, 64, 67, 0.3), 0px 1px 3px 1px rgba(60, 64, 67, 0.15);\n",
              "      fill: #174EA6;\n",
              "    }\n",
              "\n",
              "    [theme=dark] .colab-df-convert {\n",
              "      background-color: #3B4455;\n",
              "      fill: #D2E3FC;\n",
              "    }\n",
              "\n",
              "    [theme=dark] .colab-df-convert:hover {\n",
              "      background-color: #434B5C;\n",
              "      box-shadow: 0px 1px 3px 1px rgba(0, 0, 0, 0.15);\n",
              "      filter: drop-shadow(0px 1px 2px rgba(0, 0, 0, 0.3));\n",
              "      fill: #FFFFFF;\n",
              "    }\n",
              "  </style>\n",
              "\n",
              "      <script>\n",
              "        const buttonEl =\n",
              "          document.querySelector('#df-5fa5aa86-d367-4fcd-b831-335e0c78fd6a button.colab-df-convert');\n",
              "        buttonEl.style.display =\n",
              "          google.colab.kernel.accessAllowed ? 'block' : 'none';\n",
              "\n",
              "        async function convertToInteractive(key) {\n",
              "          const element = document.querySelector('#df-5fa5aa86-d367-4fcd-b831-335e0c78fd6a');\n",
              "          const dataTable =\n",
              "            await google.colab.kernel.invokeFunction('convertToInteractive',\n",
              "                                                     [key], {});\n",
              "          if (!dataTable) return;\n",
              "\n",
              "          const docLinkHtml = 'Like what you see? Visit the ' +\n",
              "            '<a target=\"_blank\" href=https://colab.research.google.com/notebooks/data_table.ipynb>data table notebook</a>'\n",
              "            + ' to learn more about interactive tables.';\n",
              "          element.innerHTML = '';\n",
              "          dataTable['output_type'] = 'display_data';\n",
              "          await google.colab.output.renderOutput(dataTable, element);\n",
              "          const docLink = document.createElement('div');\n",
              "          docLink.innerHTML = docLinkHtml;\n",
              "          element.appendChild(docLink);\n",
              "        }\n",
              "      </script>\n",
              "    </div>\n",
              "  </div>\n",
              "  "
            ]
          },
          "metadata": {},
          "execution_count": 27
        }
      ]
    },
    {
      "cell_type": "code",
      "source": [
        "x= data.iloc[:, :-1].values\n",
        "y= data.iloc[:, -1].values"
      ],
      "metadata": {
        "id": "dBtaJ2RppKeA"
      },
      "execution_count": null,
      "outputs": []
    },
    {
      "cell_type": "code",
      "source": [
        "x"
      ],
      "metadata": {
        "colab": {
          "base_uri": "https://localhost:8080/"
        },
        "id": "QPmVssyOpi5_",
        "outputId": "4aa19925-af87-4d9f-eff8-da8f902acfbe"
      },
      "execution_count": null,
      "outputs": [
        {
          "output_type": "execute_result",
          "data": {
            "text/plain": [
              "array([[30, 64,  1],\n",
              "       [30, 62,  3],\n",
              "       [30, 65,  0],\n",
              "       [31, 59,  2],\n",
              "       [31, 65,  4],\n",
              "       [33, 58, 10],\n",
              "       [33, 60,  0],\n",
              "       [34, 59,  0],\n",
              "       [34, 66,  9],\n",
              "       [34, 58, 30],\n",
              "       [34, 60,  1],\n",
              "       [34, 61, 10],\n",
              "       [34, 67,  7],\n",
              "       [34, 60,  0],\n",
              "       [35, 64, 13],\n",
              "       [35, 63,  0],\n",
              "       [36, 60,  1],\n",
              "       [36, 69,  0],\n",
              "       [37, 60,  0],\n",
              "       [37, 63,  0],\n",
              "       [37, 58,  0],\n",
              "       [37, 59,  6],\n",
              "       [37, 60, 15],\n",
              "       [37, 63,  0],\n",
              "       [38, 69, 21],\n",
              "       [38, 59,  2],\n",
              "       [38, 60,  0],\n",
              "       [38, 60,  0],\n",
              "       [38, 62,  3],\n",
              "       [38, 64,  1],\n",
              "       [38, 66,  0],\n",
              "       [38, 66, 11],\n",
              "       [38, 60,  1],\n",
              "       [38, 67,  5],\n",
              "       [39, 66,  0],\n",
              "       [39, 63,  0],\n",
              "       [39, 67,  0],\n",
              "       [39, 58,  0],\n",
              "       [39, 59,  2],\n",
              "       [39, 63,  4],\n",
              "       [40, 58,  2],\n",
              "       [40, 58,  0],\n",
              "       [40, 65,  0],\n",
              "       [41, 60, 23],\n",
              "       [41, 64,  0],\n",
              "       [41, 67,  0],\n",
              "       [41, 58,  0],\n",
              "       [41, 59,  8],\n",
              "       [41, 59,  0],\n",
              "       [41, 64,  0],\n",
              "       [41, 69,  8],\n",
              "       [41, 65,  0],\n",
              "       [41, 65,  0],\n",
              "       [42, 69,  1],\n",
              "       [42, 59,  0],\n",
              "       [42, 58,  0],\n",
              "       [42, 60,  1],\n",
              "       [42, 59,  2],\n",
              "       [42, 61,  4],\n",
              "       [42, 62, 20],\n",
              "       [42, 65,  0],\n",
              "       [42, 63,  1],\n",
              "       [43, 58, 52],\n",
              "       [43, 59,  2],\n",
              "       [43, 64,  0],\n",
              "       [43, 64,  0],\n",
              "       [43, 63, 14],\n",
              "       [43, 64,  2],\n",
              "       [43, 64,  3],\n",
              "       [43, 60,  0],\n",
              "       [43, 63,  2],\n",
              "       [43, 65,  0],\n",
              "       [43, 66,  4],\n",
              "       [44, 64,  6],\n",
              "       [44, 58,  9],\n",
              "       [44, 63, 19],\n",
              "       [44, 61,  0],\n",
              "       [44, 63,  1],\n",
              "       [44, 61,  0],\n",
              "       [44, 67, 16],\n",
              "       [45, 65,  6],\n",
              "       [45, 66,  0],\n",
              "       [45, 67,  1],\n",
              "       [45, 60,  0],\n",
              "       [45, 67,  0],\n",
              "       [45, 59, 14],\n",
              "       [45, 64,  0],\n",
              "       [45, 68,  0],\n",
              "       [45, 67,  1],\n",
              "       [46, 58,  2],\n",
              "       [46, 69,  3],\n",
              "       [46, 62,  5],\n",
              "       [46, 65, 20],\n",
              "       [46, 62,  0],\n",
              "       [46, 58,  3],\n",
              "       [46, 63,  0],\n",
              "       [47, 63, 23],\n",
              "       [47, 62,  0],\n",
              "       [47, 65,  0],\n",
              "       [47, 61,  0],\n",
              "       [47, 63,  6],\n",
              "       [47, 66,  0],\n",
              "       [47, 67,  0],\n",
              "       [47, 58,  3],\n",
              "       [47, 60,  4],\n",
              "       [47, 68,  4],\n",
              "       [47, 66, 12],\n",
              "       [48, 58, 11],\n",
              "       [48, 58, 11],\n",
              "       [48, 67,  7],\n",
              "       [48, 61,  8],\n",
              "       [48, 62,  2],\n",
              "       [48, 64,  0],\n",
              "       [48, 66,  0],\n",
              "       [49, 63,  0],\n",
              "       [49, 64, 10],\n",
              "       [49, 61,  1],\n",
              "       [49, 62,  0],\n",
              "       [49, 66,  0],\n",
              "       [49, 60,  1],\n",
              "       [49, 62,  1],\n",
              "       [49, 63,  3],\n",
              "       [49, 61,  0],\n",
              "       [49, 67,  1],\n",
              "       [50, 63, 13],\n",
              "       [50, 64,  0],\n",
              "       [50, 59,  0],\n",
              "       [50, 61,  6],\n",
              "       [50, 61,  0],\n",
              "       [50, 63,  1],\n",
              "       [50, 58,  1],\n",
              "       [50, 59,  2],\n",
              "       [50, 61,  0],\n",
              "       [50, 64,  0],\n",
              "       [50, 65,  4],\n",
              "       [50, 66,  1],\n",
              "       [51, 59, 13],\n",
              "       [51, 59,  3],\n",
              "       [51, 64,  7],\n",
              "       [51, 59,  1],\n",
              "       [51, 65,  0],\n",
              "       [51, 66,  1],\n",
              "       [52, 69,  3],\n",
              "       [52, 59,  2],\n",
              "       [52, 62,  3],\n",
              "       [52, 66,  4],\n",
              "       [52, 61,  0],\n",
              "       [52, 63,  4],\n",
              "       [52, 69,  0],\n",
              "       [52, 60,  4],\n",
              "       [52, 60,  5],\n",
              "       [52, 62,  0],\n",
              "       [52, 62,  1],\n",
              "       [52, 64,  0],\n",
              "       [52, 65,  0],\n",
              "       [52, 68,  0],\n",
              "       [53, 58,  4],\n",
              "       [53, 65,  1],\n",
              "       [53, 59,  3],\n",
              "       [53, 60,  9],\n",
              "       [53, 63, 24],\n",
              "       [53, 65, 12],\n",
              "       [53, 58,  1],\n",
              "       [53, 60,  1],\n",
              "       [53, 60,  2],\n",
              "       [53, 61,  1],\n",
              "       [53, 63,  0],\n",
              "       [54, 60, 11],\n",
              "       [54, 65, 23],\n",
              "       [54, 65,  5],\n",
              "       [54, 68,  7],\n",
              "       [54, 59,  7],\n",
              "       [54, 60,  3],\n",
              "       [54, 66,  0],\n",
              "       [54, 67, 46],\n",
              "       [54, 62,  0],\n",
              "       [54, 69,  7],\n",
              "       [54, 63, 19],\n",
              "       [54, 58,  1],\n",
              "       [54, 62,  0],\n",
              "       [55, 63,  6],\n",
              "       [55, 68, 15],\n",
              "       [55, 58,  1],\n",
              "       [55, 58,  0],\n",
              "       [55, 58,  1],\n",
              "       [55, 66, 18],\n",
              "       [55, 66,  0],\n",
              "       [55, 69,  3],\n",
              "       [55, 69, 22],\n",
              "       [55, 67,  1],\n",
              "       [56, 65,  9],\n",
              "       [56, 66,  3],\n",
              "       [56, 60,  0],\n",
              "       [56, 66,  2],\n",
              "       [56, 66,  1],\n",
              "       [56, 67,  0],\n",
              "       [56, 60,  0],\n",
              "       [57, 61,  5],\n",
              "       [57, 62, 14],\n",
              "       [57, 64,  1],\n",
              "       [57, 64,  9],\n",
              "       [57, 69,  0],\n",
              "       [57, 61,  0],\n",
              "       [57, 62,  0],\n",
              "       [57, 63,  0],\n",
              "       [57, 64,  0],\n",
              "       [57, 64,  0],\n",
              "       [57, 67,  0],\n",
              "       [58, 59,  0],\n",
              "       [58, 60,  3],\n",
              "       [58, 61,  1],\n",
              "       [58, 67,  0],\n",
              "       [58, 58,  0],\n",
              "       [58, 58,  3],\n",
              "       [58, 61,  2],\n",
              "       [59, 62, 35],\n",
              "       [59, 60,  0],\n",
              "       [59, 63,  0],\n",
              "       [59, 64,  1],\n",
              "       [59, 64,  4],\n",
              "       [59, 64,  0],\n",
              "       [59, 64,  7],\n",
              "       [59, 67,  3],\n",
              "       [60, 59, 17],\n",
              "       [60, 65,  0],\n",
              "       [60, 61,  1],\n",
              "       [60, 67,  2],\n",
              "       [60, 61, 25],\n",
              "       [60, 64,  0],\n",
              "       [61, 62,  5],\n",
              "       [61, 65,  0],\n",
              "       [61, 68,  1],\n",
              "       [61, 59,  0],\n",
              "       [61, 59,  0],\n",
              "       [61, 64,  0],\n",
              "       [61, 65,  8],\n",
              "       [61, 68,  0],\n",
              "       [61, 59,  0],\n",
              "       [62, 59, 13],\n",
              "       [62, 58,  0],\n",
              "       [62, 65, 19],\n",
              "       [62, 62,  6],\n",
              "       [62, 66,  0],\n",
              "       [62, 66,  0],\n",
              "       [62, 58,  0],\n",
              "       [63, 60,  1],\n",
              "       [63, 61,  0],\n",
              "       [63, 62,  0],\n",
              "       [63, 63,  0],\n",
              "       [63, 63,  0],\n",
              "       [63, 66,  0],\n",
              "       [63, 61,  9],\n",
              "       [63, 61, 28],\n",
              "       [64, 58,  0],\n",
              "       [64, 65, 22],\n",
              "       [64, 66,  0],\n",
              "       [64, 61,  0],\n",
              "       [64, 68,  0],\n",
              "       [65, 58,  0],\n",
              "       [65, 61,  2],\n",
              "       [65, 62, 22],\n",
              "       [65, 66, 15],\n",
              "       [65, 58,  0],\n",
              "       [65, 64,  0],\n",
              "       [65, 67,  0],\n",
              "       [65, 59,  2],\n",
              "       [65, 64,  0],\n",
              "       [65, 67,  1],\n",
              "       [66, 58,  0],\n",
              "       [66, 61, 13],\n",
              "       [66, 58,  0],\n",
              "       [66, 58,  1],\n",
              "       [66, 68,  0],\n",
              "       [67, 64,  8],\n",
              "       [67, 63,  1],\n",
              "       [67, 66,  0],\n",
              "       [67, 66,  0],\n",
              "       [67, 61,  0],\n",
              "       [67, 65,  0],\n",
              "       [68, 67,  0],\n",
              "       [68, 68,  0],\n",
              "       [69, 67,  8],\n",
              "       [69, 60,  0],\n",
              "       [69, 65,  0],\n",
              "       [69, 66,  0],\n",
              "       [70, 58,  0],\n",
              "       [70, 58,  4],\n",
              "       [70, 66, 14],\n",
              "       [70, 67,  0],\n",
              "       [70, 68,  0],\n",
              "       [70, 59,  8],\n",
              "       [70, 63,  0],\n",
              "       [71, 68,  2],\n",
              "       [72, 63,  0],\n",
              "       [72, 58,  0],\n",
              "       [72, 64,  0],\n",
              "       [72, 67,  3],\n",
              "       [73, 62,  0],\n",
              "       [73, 68,  0],\n",
              "       [74, 65,  3],\n",
              "       [74, 63,  0],\n",
              "       [75, 62,  1],\n",
              "       [76, 67,  0],\n",
              "       [77, 65,  3],\n",
              "       [78, 65,  1],\n",
              "       [83, 58,  2]])"
            ]
          },
          "metadata": {},
          "execution_count": 29
        }
      ]
    },
    {
      "cell_type": "code",
      "source": [
        "# Splitting the dataset into training and test set.  \n",
        "from sklearn.model_selection import train_test_split  \n",
        "x_train, x_test, y_train, y_test= train_test_split(x, y, test_size= 0.2, random_state=101)"
      ],
      "metadata": {
        "id": "4kJrMoFro7Qz"
      },
      "execution_count": null,
      "outputs": []
    },
    {
      "cell_type": "code",
      "source": [
        "print(y_train.shape)"
      ],
      "metadata": {
        "colab": {
          "base_uri": "https://localhost:8080/"
        },
        "id": "oH7CpmvScaZh",
        "outputId": "433d6983-8816-4e51-e602-706fe0df3a82"
      },
      "execution_count": null,
      "outputs": [
        {
          "output_type": "stream",
          "name": "stdout",
          "text": [
            "(244,)\n"
          ]
        }
      ]
    },
    {
      "cell_type": "code",
      "source": [
        "from sklearn.neighbors import KNeighborsClassifier\n",
        "from sklearn.metrics import accuracy_score\n",
        "import warnings\n",
        "warnings.filterwarnings(\"ignore\") \n",
        "k = [1, 2, 3, 4, 5]\n",
        "A1l1=[]\n",
        "for i in k:\n",
        "  classifier= KNeighborsClassifier(n_neighbors=i, metric='manhattan', p=1 )  \n",
        "  classifier.fit(x_train, y_train)\n",
        "  y_pred =  classifier.predict(x_test)\n",
        "  A1l1.append(accuracy_score(y_test, y_pred))\n",
        "  print('Accuracy_score for k=:',i,'is', accuracy_score(y_test, y_pred))"
      ],
      "metadata": {
        "colab": {
          "base_uri": "https://localhost:8080/"
        },
        "id": "B1lfkdqLqNzC",
        "outputId": "96dff7f0-481e-4ec4-c8a1-2e03ab392e0e"
      },
      "execution_count": null,
      "outputs": [
        {
          "output_type": "stream",
          "name": "stdout",
          "text": [
            "Accuracy_score for k=: 1 is 0.7096774193548387\n",
            "Accuracy_score for k=: 2 is 0.6935483870967742\n",
            "Accuracy_score for k=: 3 is 0.6935483870967742\n",
            "Accuracy_score for k=: 4 is 0.6935483870967742\n",
            "Accuracy_score for k=: 5 is 0.6774193548387096\n"
          ]
        }
      ]
    },
    {
      "cell_type": "code",
      "source": [
        "A1l2=[]\n",
        "for i in k:\n",
        "  classifier= KNeighborsClassifier(n_neighbors=i, metric='euclidean', p=2 )  \n",
        "  classifier.fit(x_train, y_train)\n",
        "  y_pred =  classifier.predict(x_test)\n",
        "  A1l2.append(accuracy_score(y_test, y_pred))\n",
        "  print('Accuracy_score for k=:',i, 'is', accuracy_score(y_test, y_pred))"
      ],
      "metadata": {
        "colab": {
          "base_uri": "https://localhost:8080/"
        },
        "id": "bAsOLFbvrvnS",
        "outputId": "d5c4c80e-85e7-466c-d31f-c3bfa8452b50"
      },
      "execution_count": null,
      "outputs": [
        {
          "output_type": "stream",
          "name": "stdout",
          "text": [
            "Accuracy_score for k=: 1 is 0.7096774193548387\n",
            "Accuracy_score for k=: 2 is 0.7258064516129032\n",
            "Accuracy_score for k=: 3 is 0.6935483870967742\n",
            "Accuracy_score for k=: 4 is 0.7096774193548387\n",
            "Accuracy_score for k=: 5 is 0.6612903225806451\n"
          ]
        }
      ]
    },
    {
      "cell_type": "code",
      "source": [
        "# Splitting the dataset into training and test set.  \n",
        "from sklearn.model_selection import train_test_split  \n",
        "x_train, x_test, y_train, y_test= train_test_split(x, y, test_size= 0.4, random_state=101)"
      ],
      "metadata": {
        "id": "LEnaCUhzsbo2"
      },
      "execution_count": null,
      "outputs": []
    },
    {
      "cell_type": "code",
      "source": [
        "A2l1=[]\n",
        "for i in k:\n",
        "  classifier= KNeighborsClassifier(n_neighbors=i, metric='manhattan', p=1 )  \n",
        "  classifier.fit(x_train, y_train)\n",
        "  y_pred =  classifier.predict(x_test)\n",
        "  A2l1.append(accuracy_score(y_test, y_pred))\n",
        "  print('Accuracy_score for k=:',i,'is', accuracy_score(y_test, y_pred))"
      ],
      "metadata": {
        "colab": {
          "base_uri": "https://localhost:8080/"
        },
        "id": "9Y_LgynQsesi",
        "outputId": "9b3b2e11-5fd4-445e-a9ea-c3d750f2717c"
      },
      "execution_count": null,
      "outputs": [
        {
          "output_type": "stream",
          "name": "stdout",
          "text": [
            "Accuracy_score for k=: 1 is 0.6260162601626016\n",
            "Accuracy_score for k=: 2 is 0.6747967479674797\n",
            "Accuracy_score for k=: 3 is 0.6585365853658537\n",
            "Accuracy_score for k=: 4 is 0.7073170731707317\n",
            "Accuracy_score for k=: 5 is 0.6910569105691057\n"
          ]
        }
      ]
    },
    {
      "cell_type": "code",
      "source": [
        "A2l2=[]\n",
        "for i in k:\n",
        "  classifier= KNeighborsClassifier(n_neighbors=i, metric='euclidean', p=2 )  \n",
        "  classifier.fit(x_train, y_train)\n",
        "  y_pred =  classifier.predict(x_test)\n",
        "  A2l2.append(accuracy_score(y_test, y_pred))\n",
        "  print('Accuracy_score for k=:',i, 'is', accuracy_score(y_test, y_pred))"
      ],
      "metadata": {
        "colab": {
          "base_uri": "https://localhost:8080/"
        },
        "id": "S7rDb_xOtAsp",
        "outputId": "57d5be0a-dd53-4d5b-a768-30a15e8931b1"
      },
      "execution_count": null,
      "outputs": [
        {
          "output_type": "stream",
          "name": "stdout",
          "text": [
            "Accuracy_score for k=: 1 is 0.6178861788617886\n",
            "Accuracy_score for k=: 2 is 0.6910569105691057\n",
            "Accuracy_score for k=: 3 is 0.6260162601626016\n",
            "Accuracy_score for k=: 4 is 0.6910569105691057\n",
            "Accuracy_score for k=: 5 is 0.6910569105691057\n"
          ]
        }
      ]
    },
    {
      "cell_type": "code",
      "source": [
        "# Splitting the dataset into training and test set.  \n",
        "from sklearn.model_selection import train_test_split  \n",
        "x_train, x_test, y_train, y_test= train_test_split(x, y, test_size= 0.3, random_state=101)"
      ],
      "metadata": {
        "id": "UhIZeVNnsgV5"
      },
      "execution_count": null,
      "outputs": []
    },
    {
      "cell_type": "code",
      "source": [
        "A3l1=[]\n",
        "for i in k:\n",
        "  classifier= KNeighborsClassifier(n_neighbors=i, metric='manhattan', p=1 )  \n",
        "  classifier.fit(x_train, y_train)\n",
        "  y_pred =  classifier.predict(x_test)\n",
        "  A3l1.append(accuracy_score(y_test, y_pred))\n",
        "  print('Accuracy_score for k=:',i,'is', accuracy_score(y_test, y_pred))"
      ],
      "metadata": {
        "colab": {
          "base_uri": "https://localhost:8080/"
        },
        "id": "Jvolsy5csg4E",
        "outputId": "8a826a5c-1b29-47f0-b243-4a52a1eab5c0"
      },
      "execution_count": null,
      "outputs": [
        {
          "output_type": "stream",
          "name": "stdout",
          "text": [
            "Accuracy_score for k=: 1 is 0.6739130434782609\n",
            "Accuracy_score for k=: 2 is 0.717391304347826\n",
            "Accuracy_score for k=: 3 is 0.6956521739130435\n",
            "Accuracy_score for k=: 4 is 0.6956521739130435\n",
            "Accuracy_score for k=: 5 is 0.6956521739130435\n"
          ]
        }
      ]
    },
    {
      "cell_type": "code",
      "source": [
        "A3l2=[]\n",
        "for i in k:\n",
        "  classifier= KNeighborsClassifier(n_neighbors=i, metric='euclidean', p=2 )  \n",
        "  classifier.fit(x_train, y_train)\n",
        "  y_pred =  classifier.predict(x_test)\n",
        "  A3l2.append(accuracy_score(y_test, y_pred))\n",
        "  print('Accuracy_score for k=:',i, 'is', accuracy_score(y_test, y_pred))"
      ],
      "metadata": {
        "colab": {
          "base_uri": "https://localhost:8080/"
        },
        "id": "S14vKNDRtCZC",
        "outputId": "0219fb11-a1cb-4ae6-def8-64462e3453b2"
      },
      "execution_count": null,
      "outputs": [
        {
          "output_type": "stream",
          "name": "stdout",
          "text": [
            "Accuracy_score for k=: 1 is 0.6413043478260869\n",
            "Accuracy_score for k=: 2 is 0.7065217391304348\n",
            "Accuracy_score for k=: 3 is 0.6847826086956522\n",
            "Accuracy_score for k=: 4 is 0.7282608695652174\n",
            "Accuracy_score for k=: 5 is 0.6956521739130435\n"
          ]
        }
      ]
    },
    {
      "cell_type": "code",
      "source": [
        "# Splitting the dataset into training and test set.  \n",
        "from sklearn.model_selection import train_test_split  \n",
        "x_train, x_test, y_train, y_test= train_test_split(x, y, test_size= 0.1, random_state=101)"
      ],
      "metadata": {
        "id": "tDQO5Rm3skiJ"
      },
      "execution_count": null,
      "outputs": []
    },
    {
      "cell_type": "code",
      "source": [
        "A4l1=[]\n",
        "for i in k:\n",
        "  classifier= KNeighborsClassifier(n_neighbors=i, metric='manhattan', p=1 )  \n",
        "  classifier.fit(x_train, y_train)\n",
        "  y_pred =  classifier.predict(x_test)\n",
        "  A4l1.append(accuracy_score(y_test, y_pred))\n",
        "  print('Accuracy_score for k=:',i,'is', accuracy_score(y_test, y_pred))"
      ],
      "metadata": {
        "colab": {
          "base_uri": "https://localhost:8080/"
        },
        "id": "Z5e1_nO1sl7p",
        "outputId": "6c0af9c4-cd12-4410-86ed-475473b70923"
      },
      "execution_count": null,
      "outputs": [
        {
          "output_type": "stream",
          "name": "stdout",
          "text": [
            "Accuracy_score for k=: 1 is 0.6774193548387096\n",
            "Accuracy_score for k=: 2 is 0.8387096774193549\n",
            "Accuracy_score for k=: 3 is 0.7741935483870968\n",
            "Accuracy_score for k=: 4 is 0.8064516129032258\n",
            "Accuracy_score for k=: 5 is 0.7096774193548387\n"
          ]
        }
      ]
    },
    {
      "cell_type": "code",
      "source": [
        "A4l2=[]\n",
        "for i in k:\n",
        "  classifier= KNeighborsClassifier(n_neighbors=i, metric='euclidean', p=2 )  \n",
        "  classifier.fit(x_train, y_train)\n",
        "  y_pred =  classifier.predict(x_test)\n",
        "  A4l2.append(accuracy_score(y_test, y_pred))\n",
        "  print('Accuracy_score for k=:',i, 'is', accuracy_score(y_test, y_pred))"
      ],
      "metadata": {
        "colab": {
          "base_uri": "https://localhost:8080/"
        },
        "id": "xCYGhlG-tEkQ",
        "outputId": "0af48ff9-e3ff-4445-9189-47b0f042b758"
      },
      "execution_count": null,
      "outputs": [
        {
          "output_type": "stream",
          "name": "stdout",
          "text": [
            "Accuracy_score for k=: 1 is 0.7096774193548387\n",
            "Accuracy_score for k=: 2 is 0.8387096774193549\n",
            "Accuracy_score for k=: 3 is 0.8064516129032258\n",
            "Accuracy_score for k=: 4 is 0.8064516129032258\n",
            "Accuracy_score for k=: 5 is 0.7096774193548387\n"
          ]
        }
      ]
    },
    {
      "cell_type": "code",
      "source": [
        "import matplotlib.pyplot as plt\n",
        "plt.title('For split(80:20)')\n",
        "plt.plot(k, A1l1, color='r', label='test-accuracy for l1')\n",
        "plt.plot(k, A1l2, color='g', label='test accuracy for l2')\n",
        "plt.scatter(k, A1l1, color='r')\n",
        "plt.scatter(k, A1l2, color='g')\n",
        "plt.legend()"
      ],
      "metadata": {
        "colab": {
          "base_uri": "https://localhost:8080/",
          "height": 298
        },
        "id": "os7BEg7Vvx2G",
        "outputId": "c552e66a-665f-4915-b149-87dd575f5174"
      },
      "execution_count": null,
      "outputs": [
        {
          "output_type": "execute_result",
          "data": {
            "text/plain": [
              "<matplotlib.legend.Legend at 0x7fb67d5d9520>"
            ]
          },
          "metadata": {},
          "execution_count": 48
        },
        {
          "output_type": "display_data",
          "data": {
            "text/plain": [
              "<Figure size 432x288 with 1 Axes>"
            ],
            "image/png": "[encoded data removed]"
          },
          "metadata": {
            "needs_background": "light"
          }
        }
      ]
    },
    {
      "cell_type": "code",
      "source": [
        "plt.title('For split(60:40)')\n",
        "plt.plot(k, A2l1, color='r', label='test-accuracy for l1')\n",
        "plt.plot(k, A2l2, color='g', label='test accuracy for l2')\n",
        "plt.scatter(k, A2l1, color='r')\n",
        "plt.scatter(k, A2l2, color='g')\n",
        "plt.legend()"
      ],
      "metadata": {
        "colab": {
          "base_uri": "https://localhost:8080/",
          "height": 298
        },
        "id": "cxAA3xuPwapr",
        "outputId": "542a13be-546e-4646-c372-592665309e80"
      },
      "execution_count": null,
      "outputs": [
        {
          "output_type": "execute_result",
          "data": {
            "text/plain": [
              "<matplotlib.legend.Legend at 0x7fb67d55bf40>"
            ]
          },
          "metadata": {},
          "execution_count": 49
        },
        {
          "output_type": "display_data",
          "data": {
            "text/plain": [
              "<Figure size 432x288 with 1 Axes>"
            ],
            "image/png": "[encoded data removed]"
          },
          "metadata": {
            "needs_background": "light"
          }
        }
      ]
    },
    {
      "cell_type": "code",
      "source": [
        "plt.title('For split(70:30)')\n",
        "plt.plot(k, A3l1, color='r', label='test-accuracy for l1')\n",
        "plt.plot(k, A3l2, color='g', label='test accuracy for l2')\n",
        "plt.scatter(k, A3l1, color='r')\n",
        "plt.scatter(k, A3l2, color='g')\n",
        "plt.legend()"
      ],
      "metadata": {
        "colab": {
          "base_uri": "https://localhost:8080/",
          "height": 298
        },
        "id": "vXrAwjzJwugJ",
        "outputId": "ec0d83a5-ac41-4f53-8b9c-974761a8f705"
      },
      "execution_count": null,
      "outputs": [
        {
          "output_type": "execute_result",
          "data": {
            "text/plain": [
              "<matplotlib.legend.Legend at 0x7fb68929aa90>"
            ]
          },
          "metadata": {},
          "execution_count": 50
        },
        {
          "output_type": "display_data",
          "data": {
            "text/plain": [
              "<Figure size 432x288 with 1 Axes>"
            ],
            "image/png": "[encoded data removed]"
          },
          "metadata": {
            "needs_background": "light"
          }
        }
      ]
    },
    {
      "cell_type": "code",
      "source": [
        "plt.title('For split(60:40)')\n",
        "plt.plot(k, A4l1, color='r', label='test-accuracy for l1')\n",
        "plt.plot(k, A4l2, color='g', label='test accuracy for l2')\n",
        "plt.scatter(k, A4l1, color='r')\n",
        "plt.scatter(k, A4l2, color='g')\n",
        "plt.legend()"
      ],
      "metadata": {
        "colab": {
          "base_uri": "https://localhost:8080/",
          "height": 298
        },
        "id": "wdMBgIG4wxM_",
        "outputId": "3e0fad55-76a5-4861-8039-3a6d6926cbd0"
      },
      "execution_count": null,
      "outputs": [
        {
          "output_type": "execute_result",
          "data": {
            "text/plain": [
              "<matplotlib.legend.Legend at 0x7fb67d4883d0>"
            ]
          },
          "metadata": {},
          "execution_count": 51
        },
        {
          "output_type": "display_data",
          "data": {
            "text/plain": [
              "<Figure size 432x288 with 1 Axes>"
            ],
            "image/png": "[encoded data removed]"
          },
          "metadata": {
            "needs_background": "light"
          }
        }
      ]
    }
  ]
}