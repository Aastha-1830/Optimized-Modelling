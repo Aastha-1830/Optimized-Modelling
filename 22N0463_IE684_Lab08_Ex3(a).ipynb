{
  "nbformat": 4,
  "nbformat_minor": 0,
  "metadata": {
    "colab": {
      "provenance": []
    },
    "kernelspec": {
      "name": "python3",
      "display_name": "Python 3"
    },
    "language_info": {
      "name": "python"
    }
  },
  "cells": [
    {
      "cell_type": "code",
      "execution_count": 1,
      "metadata": {
        "id": "_9TCgc5AYkvR"
      },
      "outputs": [],
      "source": [
        "import numpy as np\n",
        "import pandas as pd"
      ]
    },
    {
      "cell_type": "code",
      "source": [
        "#read data\n",
        "data=pd.read_csv('haberman.data',sep=',',header=None)"
      ],
      "metadata": {
        "id": "zDR84_fBY129"
      },
      "execution_count": 3,
      "outputs": []
    },
    {
      "cell_type": "code",
      "source": [
        "#asssign rlevant column names\n",
        "data.columns=['age','year_of_operation','positive_axillary_nodes','survival_status']"
      ],
      "metadata": {
        "id": "1NeHZQOiY77z"
      },
      "execution_count": 4,
      "outputs": []
    },
    {
      "cell_type": "code",
      "source": [
        "data.head()"
      ],
      "metadata": {
        "colab": {
          "base_uri": "https://localhost:8080/",
          "height": 206
        },
        "id": "n8yB1FScZDSL",
        "outputId": "4f5d39d9-cf06-471c-c165-7e266c89ec24"
      },
      "execution_count": 5,
      "outputs": [
        {
          "output_type": "execute_result",
          "data": {
            "text/plain": [
              "   age  year_of_operation  positive_axillary_nodes  survival_status\n",
              "0   30                 64                        1                1\n",
              "1   30                 62                        3                1\n",
              "2   30                 65                        0                1\n",
              "3   31                 59                        2                1\n",
              "4   31                 65                        4                1"
            ],
            "text/html": [
              "\n",
              "  <div id=\"df-6dad0cad-bf15-43ce-a7bc-39896117726e\">\n",
              "    <div class=\"colab-df-container\">\n",
              "      <div>\n",
              "<style scoped>\n",
              "    .dataframe tbody tr th:only-of-type {\n",
              "        vertical-align: middle;\n",
              "    }\n",
              "\n",
              "    .dataframe tbody tr th {\n",
              "        vertical-align: top;\n",
              "    }\n",
              "\n",
              "    .dataframe thead th {\n",
              "        text-align: right;\n",
              "    }\n",
              "</style>\n",
              "<table border=\"1\" class=\"dataframe\">\n",
              "  <thead>\n",
              "    <tr style=\"text-align: right;\">\n",
              "      <th></th>\n",
              "      <th>age</th>\n",
              "      <th>year_of_operation</th>\n",
              "      <th>positive_axillary_nodes</th>\n",
              "      <th>survival_status</th>\n",
              "    </tr>\n",
              "  </thead>\n",
              "  <tbody>\n",
              "    <tr>\n",
              "      <th>0</th>\n",
              "      <td>30</td>\n",
              "      <td>64</td>\n",
              "      <td>1</td>\n",
              "      <td>1</td>\n",
              "    </tr>\n",
              "    <tr>\n",
              "      <th>1</th>\n",
              "      <td>30</td>\n",
              "      <td>62</td>\n",
              "      <td>3</td>\n",
              "      <td>1</td>\n",
              "    </tr>\n",
              "    <tr>\n",
              "      <th>2</th>\n",
              "      <td>30</td>\n",
              "      <td>65</td>\n",
              "      <td>0</td>\n",
              "      <td>1</td>\n",
              "    </tr>\n",
              "    <tr>\n",
              "      <th>3</th>\n",
              "      <td>31</td>\n",
              "      <td>59</td>\n",
              "      <td>2</td>\n",
              "      <td>1</td>\n",
              "    </tr>\n",
              "    <tr>\n",
              "      <th>4</th>\n",
              "      <td>31</td>\n",
              "      <td>65</td>\n",
              "      <td>4</td>\n",
              "      <td>1</td>\n",
              "    </tr>\n",
              "  </tbody>\n",
              "</table>\n",
              "</div>\n",
              "      <button class=\"colab-df-convert\" onclick=\"convertToInteractive('df-6dad0cad-bf15-43ce-a7bc-39896117726e')\"\n",
              "              title=\"Convert this dataframe to an interactive table.\"\n",
              "              style=\"display:none;\">\n",
              "        \n",
              "  <svg xmlns=\"http://www.w3.org/2000/svg\" height=\"24px\"viewBox=\"0 0 24 24\"\n",
              "       width=\"24px\">\n",
              "    <path d=\"M0 0h24v24H0V0z\" fill=\"none\"/>\n",
              "    <path d=\"M18.56 5.44l.94 2.06.94-2.06 2.06-.94-2.06-.94-.94-2.06-.94 2.06-2.06.94zm-11 1L8.5 8.5l.94-2.06 2.06-.94-2.06-.94L8.5 2.5l-.94 2.06-2.06.94zm10 10l.94 2.06.94-2.06 2.06-.94-2.06-.94-.94-2.06-.94 2.06-2.06.94z\"/><path d=\"M17.41 7.96l-1.37-1.37c-.4-.4-.92-.59-1.43-.59-.52 0-1.04.2-1.43.59L10.3 9.45l-7.72 7.72c-.78.78-.78 2.05 0 2.83L4 21.41c.39.39.9.59 1.41.59.51 0 1.02-.2 1.41-.59l7.78-7.78 2.81-2.81c.8-.78.8-2.07 0-2.86zM5.41 20L4 18.59l7.72-7.72 1.47 1.35L5.41 20z\"/>\n",
              "  </svg>\n",
              "      </button>\n",
              "      \n",
              "  <style>\n",
              "    .colab-df-container {\n",
              "      display:flex;\n",
              "      flex-wrap:wrap;\n",
              "      gap: 12px;\n",
              "    }\n",
              "\n",
              "    .colab-df-convert {\n",
              "      background-color: #E8F0FE;\n",
              "      border: none;\n",
              "      border-radius: 50%;\n",
              "      cursor: pointer;\n",
              "      display: none;\n",
              "      fill: #1967D2;\n",
              "      height: 32px;\n",
              "      padding: 0 0 0 0;\n",
              "      width: 32px;\n",
              "    }\n",
              "\n",
              "    .colab-df-convert:hover {\n",
              "      background-color: #E2EBFA;\n",
              "      box-shadow: 0px 1px 2px rgba(60, 64, 67, 0.3), 0px 1px 3px 1px rgba(60, 64, 67, 0.15);\n",
              "      fill: #174EA6;\n",
              "    }\n",
              "\n",
              "    [theme=dark] .colab-df-convert {\n",
              "      background-color: #3B4455;\n",
              "      fill: #D2E3FC;\n",
              "    }\n",
              "\n",
              "    [theme=dark] .colab-df-convert:hover {\n",
              "      background-color: #434B5C;\n",
              "      box-shadow: 0px 1px 3px 1px rgba(0, 0, 0, 0.15);\n",
              "      filter: drop-shadow(0px 1px 2px rgba(0, 0, 0, 0.3));\n",
              "      fill: #FFFFFF;\n",
              "    }\n",
              "  </style>\n",
              "\n",
              "      <script>\n",
              "        const buttonEl =\n",
              "          document.querySelector('#df-6dad0cad-bf15-43ce-a7bc-39896117726e button.colab-df-convert');\n",
              "        buttonEl.style.display =\n",
              "          google.colab.kernel.accessAllowed ? 'block' : 'none';\n",
              "\n",
              "        async function convertToInteractive(key) {\n",
              "          const element = document.querySelector('#df-6dad0cad-bf15-43ce-a7bc-39896117726e');\n",
              "          const dataTable =\n",
              "            await google.colab.kernel.invokeFunction('convertToInteractive',\n",
              "                                                     [key], {});\n",
              "          if (!dataTable) return;\n",
              "\n",
              "          const docLinkHtml = 'Like what you see? Visit the ' +\n",
              "            '<a target=\"_blank\" href=https://colab.research.google.com/notebooks/data_table.ipynb>data table notebook</a>'\n",
              "            + ' to learn more about interactive tables.';\n",
              "          element.innerHTML = '';\n",
              "          dataTable['output_type'] = 'display_data';\n",
              "          await google.colab.output.renderOutput(dataTable, element);\n",
              "          const docLink = document.createElement('div');\n",
              "          docLink.innerHTML = docLinkHtml;\n",
              "          element.appendChild(docLink);\n",
              "        }\n",
              "      </script>\n",
              "    </div>\n",
              "  </div>\n",
              "  "
            ]
          },
          "metadata": {},
          "execution_count": 5
        }
      ]
    },
    {
      "cell_type": "code",
      "source": [
        "x= data.iloc[:, :-1].values\n",
        "y= data.iloc[:, -1].values"
      ],
      "metadata": {
        "id": "dBtaJ2RppKeA"
      },
      "execution_count": 6,
      "outputs": []
    },
    {
      "cell_type": "code",
      "source": [
        "from sklearn.preprocessing import StandardScaler\n",
        "scaled_features = StandardScaler().fit_transform(x)"
      ],
      "metadata": {
        "id": "P6CWCzRAdwnJ"
      },
      "execution_count": 7,
      "outputs": []
    },
    {
      "cell_type": "code",
      "source": [
        "from sklearn.decomposition import PCA\n",
        "pca_haberman = PCA(n_components=2)\n",
        "principalComponents_haberman = pca_haberman.fit_transform(scaled_features)"
      ],
      "metadata": {
        "id": "D90hTFexdzOq"
      },
      "execution_count": 8,
      "outputs": []
    },
    {
      "cell_type": "code",
      "source": [
        "x = pd.DataFrame(data=principalComponents_haberman, columns = ['principal component 1', 'principal component 2'])"
      ],
      "metadata": {
        "id": "QPmVssyOpi5_"
      },
      "execution_count": 9,
      "outputs": []
    },
    {
      "cell_type": "code",
      "source": [
        "# Splitting the dataset into training and test set.  \n",
        "from sklearn.model_selection import train_test_split  \n",
        "x_train, x_test, y_train, y_test= train_test_split(x, y, test_size= 0.2, random_state=101)"
      ],
      "metadata": {
        "id": "4kJrMoFro7Qz"
      },
      "execution_count": 10,
      "outputs": []
    },
    {
      "cell_type": "code",
      "source": [
        "x.head()"
      ],
      "metadata": {
        "colab": {
          "base_uri": "https://localhost:8080/",
          "height": 206
        },
        "id": "9anZsNN_eTsC",
        "outputId": "b5ce136f-022c-4fe9-fed0-7f48ff07b29f"
      },
      "execution_count": 11,
      "outputs": [
        {
          "output_type": "execute_result",
          "data": {
            "text/plain": [
              "   principal component 1  principal component 2\n",
              "0               1.079952              -0.164819\n",
              "1               1.552517              -0.292351\n",
              "2               0.843669              -0.101052\n",
              "3               1.963759              -0.937989\n",
              "4               1.011230               0.355427"
            ],
            "text/html": [
              "\n",
              "  <div id=\"df-dea5cee0-ab2a-4f8f-8d68-5600e2796883\">\n",
              "    <div class=\"colab-df-container\">\n",
              "      <div>\n",
              "<style scoped>\n",
              "    .dataframe tbody tr th:only-of-type {\n",
              "        vertical-align: middle;\n",
              "    }\n",
              "\n",
              "    .dataframe tbody tr th {\n",
              "        vertical-align: top;\n",
              "    }\n",
              "\n",
              "    .dataframe thead th {\n",
              "        text-align: right;\n",
              "    }\n",
              "</style>\n",
              "<table border=\"1\" class=\"dataframe\">\n",
              "  <thead>\n",
              "    <tr style=\"text-align: right;\">\n",
              "      <th></th>\n",
              "      <th>principal component 1</th>\n",
              "      <th>principal component 2</th>\n",
              "    </tr>\n",
              "  </thead>\n",
              "  <tbody>\n",
              "    <tr>\n",
              "      <th>0</th>\n",
              "      <td>1.079952</td>\n",
              "      <td>-0.164819</td>\n",
              "    </tr>\n",
              "    <tr>\n",
              "      <th>1</th>\n",
              "      <td>1.552517</td>\n",
              "      <td>-0.292351</td>\n",
              "    </tr>\n",
              "    <tr>\n",
              "      <th>2</th>\n",
              "      <td>0.843669</td>\n",
              "      <td>-0.101052</td>\n",
              "    </tr>\n",
              "    <tr>\n",
              "      <th>3</th>\n",
              "      <td>1.963759</td>\n",
              "      <td>-0.937989</td>\n",
              "    </tr>\n",
              "    <tr>\n",
              "      <th>4</th>\n",
              "      <td>1.011230</td>\n",
              "      <td>0.355427</td>\n",
              "    </tr>\n",
              "  </tbody>\n",
              "</table>\n",
              "</div>\n",
              "      <button class=\"colab-df-convert\" onclick=\"convertToInteractive('df-dea5cee0-ab2a-4f8f-8d68-5600e2796883')\"\n",
              "              title=\"Convert this dataframe to an interactive table.\"\n",
              "              style=\"display:none;\">\n",
              "        \n",
              "  <svg xmlns=\"http://www.w3.org/2000/svg\" height=\"24px\"viewBox=\"0 0 24 24\"\n",
              "       width=\"24px\">\n",
              "    <path d=\"M0 0h24v24H0V0z\" fill=\"none\"/>\n",
              "    <path d=\"M18.56 5.44l.94 2.06.94-2.06 2.06-.94-2.06-.94-.94-2.06-.94 2.06-2.06.94zm-11 1L8.5 8.5l.94-2.06 2.06-.94-2.06-.94L8.5 2.5l-.94 2.06-2.06.94zm10 10l.94 2.06.94-2.06 2.06-.94-2.06-.94-.94-2.06-.94 2.06-2.06.94z\"/><path d=\"M17.41 7.96l-1.37-1.37c-.4-.4-.92-.59-1.43-.59-.52 0-1.04.2-1.43.59L10.3 9.45l-7.72 7.72c-.78.78-.78 2.05 0 2.83L4 21.41c.39.39.9.59 1.41.59.51 0 1.02-.2 1.41-.59l7.78-7.78 2.81-2.81c.8-.78.8-2.07 0-2.86zM5.41 20L4 18.59l7.72-7.72 1.47 1.35L5.41 20z\"/>\n",
              "  </svg>\n",
              "      </button>\n",
              "      \n",
              "  <style>\n",
              "    .colab-df-container {\n",
              "      display:flex;\n",
              "      flex-wrap:wrap;\n",
              "      gap: 12px;\n",
              "    }\n",
              "\n",
              "    .colab-df-convert {\n",
              "      background-color: #E8F0FE;\n",
              "      border: none;\n",
              "      border-radius: 50%;\n",
              "      cursor: pointer;\n",
              "      display: none;\n",
              "      fill: #1967D2;\n",
              "      height: 32px;\n",
              "      padding: 0 0 0 0;\n",
              "      width: 32px;\n",
              "    }\n",
              "\n",
              "    .colab-df-convert:hover {\n",
              "      background-color: #E2EBFA;\n",
              "      box-shadow: 0px 1px 2px rgba(60, 64, 67, 0.3), 0px 1px 3px 1px rgba(60, 64, 67, 0.15);\n",
              "      fill: #174EA6;\n",
              "    }\n",
              "\n",
              "    [theme=dark] .colab-df-convert {\n",
              "      background-color: #3B4455;\n",
              "      fill: #D2E3FC;\n",
              "    }\n",
              "\n",
              "    [theme=dark] .colab-df-convert:hover {\n",
              "      background-color: #434B5C;\n",
              "      box-shadow: 0px 1px 3px 1px rgba(0, 0, 0, 0.15);\n",
              "      filter: drop-shadow(0px 1px 2px rgba(0, 0, 0, 0.3));\n",
              "      fill: #FFFFFF;\n",
              "    }\n",
              "  </style>\n",
              "\n",
              "      <script>\n",
              "        const buttonEl =\n",
              "          document.querySelector('#df-dea5cee0-ab2a-4f8f-8d68-5600e2796883 button.colab-df-convert');\n",
              "        buttonEl.style.display =\n",
              "          google.colab.kernel.accessAllowed ? 'block' : 'none';\n",
              "\n",
              "        async function convertToInteractive(key) {\n",
              "          const element = document.querySelector('#df-dea5cee0-ab2a-4f8f-8d68-5600e2796883');\n",
              "          const dataTable =\n",
              "            await google.colab.kernel.invokeFunction('convertToInteractive',\n",
              "                                                     [key], {});\n",
              "          if (!dataTable) return;\n",
              "\n",
              "          const docLinkHtml = 'Like what you see? Visit the ' +\n",
              "            '<a target=\"_blank\" href=https://colab.research.google.com/notebooks/data_table.ipynb>data table notebook</a>'\n",
              "            + ' to learn more about interactive tables.';\n",
              "          element.innerHTML = '';\n",
              "          dataTable['output_type'] = 'display_data';\n",
              "          await google.colab.output.renderOutput(dataTable, element);\n",
              "          const docLink = document.createElement('div');\n",
              "          docLink.innerHTML = docLinkHtml;\n",
              "          element.appendChild(docLink);\n",
              "        }\n",
              "      </script>\n",
              "    </div>\n",
              "  </div>\n",
              "  "
            ]
          },
          "metadata": {},
          "execution_count": 11
        }
      ]
    },
    {
      "cell_type": "code",
      "source": [
        "print(y_train.shape)"
      ],
      "metadata": {
        "colab": {
          "base_uri": "https://localhost:8080/"
        },
        "id": "oH7CpmvScaZh",
        "outputId": "f389953e-4912-4519-9e2d-dc85f5a93548"
      },
      "execution_count": 12,
      "outputs": [
        {
          "output_type": "stream",
          "name": "stdout",
          "text": [
            "(244,)\n"
          ]
        }
      ]
    },
    {
      "cell_type": "code",
      "source": [
        "from sklearn.neighbors import KNeighborsClassifier\n",
        "from sklearn.metrics import accuracy_score\n",
        "import warnings\n",
        "warnings.filterwarnings(\"ignore\") \n",
        "k = [1, 2, 3, 4, 5]\n",
        "A1l1=[]\n",
        "for i in k:\n",
        "  classifier= KNeighborsClassifier(n_neighbors=i, metric='manhattan', p=1 )  \n",
        "  classifier.fit(x_train, y_train)\n",
        "  y_pred =  classifier.predict(x_test)\n",
        "  A1l1.append(accuracy_score(y_test, y_pred))\n",
        "  print('Accuracy_score for k=:',i,'is', accuracy_score(y_test, y_pred))"
      ],
      "metadata": {
        "colab": {
          "base_uri": "https://localhost:8080/"
        },
        "id": "B1lfkdqLqNzC",
        "outputId": "7bf08c89-ed09-4755-ccef-5701b8a22b33"
      },
      "execution_count": 13,
      "outputs": [
        {
          "output_type": "stream",
          "name": "stdout",
          "text": [
            "Accuracy_score for k=: 1 is 0.6129032258064516\n",
            "Accuracy_score for k=: 2 is 0.6935483870967742\n",
            "Accuracy_score for k=: 3 is 0.7096774193548387\n",
            "Accuracy_score for k=: 4 is 0.7419354838709677\n",
            "Accuracy_score for k=: 5 is 0.6935483870967742\n"
          ]
        }
      ]
    },
    {
      "cell_type": "code",
      "source": [
        "A1l2=[]\n",
        "for i in k:\n",
        "  classifier= KNeighborsClassifier(n_neighbors=i, metric='euclidean', p=2 )  \n",
        "  classifier.fit(x_train, y_train)\n",
        "  y_pred =  classifier.predict(x_test)\n",
        "  A1l2.append(accuracy_score(y_test, y_pred))\n",
        "  print('Accuracy_score for k=:',i, 'is', accuracy_score(y_test, y_pred))"
      ],
      "metadata": {
        "colab": {
          "base_uri": "https://localhost:8080/"
        },
        "id": "bAsOLFbvrvnS",
        "outputId": "2b36fc26-c466-49a1-ea32-b986fcd8dd2e"
      },
      "execution_count": 14,
      "outputs": [
        {
          "output_type": "stream",
          "name": "stdout",
          "text": [
            "Accuracy_score for k=: 1 is 0.6290322580645161\n",
            "Accuracy_score for k=: 2 is 0.7096774193548387\n",
            "Accuracy_score for k=: 3 is 0.6774193548387096\n",
            "Accuracy_score for k=: 4 is 0.6935483870967742\n",
            "Accuracy_score for k=: 5 is 0.6612903225806451\n"
          ]
        }
      ]
    },
    {
      "cell_type": "code",
      "source": [
        "# Splitting the dataset into training and test set.  \n",
        "from sklearn.model_selection import train_test_split  \n",
        "x_train, x_test, y_train, y_test= train_test_split(x, y, test_size= 0.4, random_state=101)"
      ],
      "metadata": {
        "id": "LEnaCUhzsbo2"
      },
      "execution_count": 15,
      "outputs": []
    },
    {
      "cell_type": "code",
      "source": [
        "A2l1=[]\n",
        "for i in k:\n",
        "  classifier= KNeighborsClassifier(n_neighbors=i, metric='manhattan', p=1 )  \n",
        "  classifier.fit(x_train, y_train)\n",
        "  y_pred =  classifier.predict(x_test)\n",
        "  A2l1.append(accuracy_score(y_test, y_pred))\n",
        "  print('Accuracy_score for k=:',i,'is', accuracy_score(y_test, y_pred))"
      ],
      "metadata": {
        "colab": {
          "base_uri": "https://localhost:8080/"
        },
        "id": "9Y_LgynQsesi",
        "outputId": "cabd2a03-d980-4b95-ae5e-2973f2c660f4"
      },
      "execution_count": 16,
      "outputs": [
        {
          "output_type": "stream",
          "name": "stdout",
          "text": [
            "Accuracy_score for k=: 1 is 0.6097560975609756\n",
            "Accuracy_score for k=: 2 is 0.6991869918699187\n",
            "Accuracy_score for k=: 3 is 0.6910569105691057\n",
            "Accuracy_score for k=: 4 is 0.7398373983739838\n",
            "Accuracy_score for k=: 5 is 0.7317073170731707\n"
          ]
        }
      ]
    },
    {
      "cell_type": "code",
      "source": [
        "A2l2=[]\n",
        "for i in k:\n",
        "  classifier= KNeighborsClassifier(n_neighbors=i, metric='euclidean', p=2 )  \n",
        "  classifier.fit(x_train, y_train)\n",
        "  y_pred =  classifier.predict(x_test)\n",
        "  A2l2.append(accuracy_score(y_test, y_pred))\n",
        "  print('Accuracy_score for k=:',i, 'is', accuracy_score(y_test, y_pred))"
      ],
      "metadata": {
        "colab": {
          "base_uri": "https://localhost:8080/"
        },
        "id": "S7rDb_xOtAsp",
        "outputId": "ec317c7c-9e68-46ab-8e5e-e2e503355e07"
      },
      "execution_count": 17,
      "outputs": [
        {
          "output_type": "stream",
          "name": "stdout",
          "text": [
            "Accuracy_score for k=: 1 is 0.6178861788617886\n",
            "Accuracy_score for k=: 2 is 0.7235772357723578\n",
            "Accuracy_score for k=: 3 is 0.7235772357723578\n",
            "Accuracy_score for k=: 4 is 0.7235772357723578\n",
            "Accuracy_score for k=: 5 is 0.7154471544715447\n"
          ]
        }
      ]
    },
    {
      "cell_type": "code",
      "source": [
        "# Splitting the dataset into training and test set.  \n",
        "from sklearn.model_selection import train_test_split  \n",
        "x_train, x_test, y_train, y_test= train_test_split(x, y, test_size= 0.3, random_state=101)"
      ],
      "metadata": {
        "id": "UhIZeVNnsgV5"
      },
      "execution_count": 18,
      "outputs": []
    },
    {
      "cell_type": "code",
      "source": [
        "A3l1=[]\n",
        "for i in k:\n",
        "  classifier= KNeighborsClassifier(n_neighbors=i, metric='manhattan', p=1 )  \n",
        "  classifier.fit(x_train, y_train)\n",
        "  y_pred =  classifier.predict(x_test)\n",
        "  A3l1.append(accuracy_score(y_test, y_pred))\n",
        "  print('Accuracy_score for k=:',i,'is', accuracy_score(y_test, y_pred))"
      ],
      "metadata": {
        "colab": {
          "base_uri": "https://localhost:8080/"
        },
        "id": "Jvolsy5csg4E",
        "outputId": "48e812c1-8219-4b22-b2ad-caebc32bb061"
      },
      "execution_count": 19,
      "outputs": [
        {
          "output_type": "stream",
          "name": "stdout",
          "text": [
            "Accuracy_score for k=: 1 is 0.6304347826086957\n",
            "Accuracy_score for k=: 2 is 0.6956521739130435\n",
            "Accuracy_score for k=: 3 is 0.6956521739130435\n",
            "Accuracy_score for k=: 4 is 0.7282608695652174\n",
            "Accuracy_score for k=: 5 is 0.6847826086956522\n"
          ]
        }
      ]
    },
    {
      "cell_type": "code",
      "source": [
        "A3l2=[]\n",
        "for i in k:\n",
        "  classifier= KNeighborsClassifier(n_neighbors=i, metric='euclidean', p=2 )  \n",
        "  classifier.fit(x_train, y_train)\n",
        "  y_pred =  classifier.predict(x_test)\n",
        "  A3l2.append(accuracy_score(y_test, y_pred))\n",
        "  print('Accuracy_score for k=:',i, 'is', accuracy_score(y_test, y_pred))"
      ],
      "metadata": {
        "colab": {
          "base_uri": "https://localhost:8080/"
        },
        "id": "S14vKNDRtCZC",
        "outputId": "b44ac639-e66d-4940-f787-a022df35d579"
      },
      "execution_count": 20,
      "outputs": [
        {
          "output_type": "stream",
          "name": "stdout",
          "text": [
            "Accuracy_score for k=: 1 is 0.6413043478260869\n",
            "Accuracy_score for k=: 2 is 0.7065217391304348\n",
            "Accuracy_score for k=: 3 is 0.7065217391304348\n",
            "Accuracy_score for k=: 4 is 0.7065217391304348\n",
            "Accuracy_score for k=: 5 is 0.6739130434782609\n"
          ]
        }
      ]
    },
    {
      "cell_type": "code",
      "source": [
        "# Splitting the dataset into training and test set.  \n",
        "from sklearn.model_selection import train_test_split  \n",
        "x_train, x_test, y_train, y_test= train_test_split(x, y, test_size= 0.1, random_state=101)"
      ],
      "metadata": {
        "id": "tDQO5Rm3skiJ"
      },
      "execution_count": 21,
      "outputs": []
    },
    {
      "cell_type": "code",
      "source": [
        "A4l1=[]\n",
        "for i in k:\n",
        "  classifier= KNeighborsClassifier(n_neighbors=i, metric='manhattan', p=1 )  \n",
        "  classifier.fit(x_train, y_train)\n",
        "  y_pred =  classifier.predict(x_test)\n",
        "  A4l1.append(accuracy_score(y_test, y_pred))\n",
        "  print('Accuracy_score for k=:',i,'is', accuracy_score(y_test, y_pred))"
      ],
      "metadata": {
        "colab": {
          "base_uri": "https://localhost:8080/"
        },
        "id": "Z5e1_nO1sl7p",
        "outputId": "ca440070-fab7-4cfe-8e10-750450445d2f"
      },
      "execution_count": 22,
      "outputs": [
        {
          "output_type": "stream",
          "name": "stdout",
          "text": [
            "Accuracy_score for k=: 1 is 0.6129032258064516\n",
            "Accuracy_score for k=: 2 is 0.7096774193548387\n",
            "Accuracy_score for k=: 3 is 0.7096774193548387\n",
            "Accuracy_score for k=: 4 is 0.8064516129032258\n",
            "Accuracy_score for k=: 5 is 0.7419354838709677\n"
          ]
        }
      ]
    },
    {
      "cell_type": "code",
      "source": [
        "A4l2=[]\n",
        "for i in k:\n",
        "  classifier= KNeighborsClassifier(n_neighbors=i, metric='euclidean', p=2 )  \n",
        "  classifier.fit(x_train, y_train)\n",
        "  y_pred =  classifier.predict(x_test)\n",
        "  A4l2.append(accuracy_score(y_test, y_pred))\n",
        "  print('Accuracy_score for k=:',i, 'is', accuracy_score(y_test, y_pred))"
      ],
      "metadata": {
        "colab": {
          "base_uri": "https://localhost:8080/"
        },
        "id": "xCYGhlG-tEkQ",
        "outputId": "6c94f3ec-4555-4df0-cf1b-2847a6f1adb4"
      },
      "execution_count": 23,
      "outputs": [
        {
          "output_type": "stream",
          "name": "stdout",
          "text": [
            "Accuracy_score for k=: 1 is 0.5806451612903226\n",
            "Accuracy_score for k=: 2 is 0.7741935483870968\n",
            "Accuracy_score for k=: 3 is 0.6129032258064516\n",
            "Accuracy_score for k=: 4 is 0.7419354838709677\n",
            "Accuracy_score for k=: 5 is 0.7419354838709677\n"
          ]
        }
      ]
    },
    {
      "cell_type": "code",
      "source": [
        "import matplotlib.pyplot as plt\n",
        "plt.title('For split(80:20)')\n",
        "plt.plot(k, A1l1, color='r', label='test-accuracy for l1')\n",
        "plt.plot(k, A1l2, color='g', label='test accuracy for l2')\n",
        "plt.scatter(k, A1l1, color='r')\n",
        "plt.scatter(k, A1l2, color='g')\n",
        "plt.legend()"
      ],
      "metadata": {
        "colab": {
          "base_uri": "https://localhost:8080/",
          "height": 298
        },
        "id": "os7BEg7Vvx2G",
        "outputId": "4c9ec717-85f0-416d-d54a-48cfb39e2888"
      },
      "execution_count": 24,
      "outputs": [
        {
          "output_type": "execute_result",
          "data": {
            "text/plain": [
              "<matplotlib.legend.Legend at 0x7fcc64bc0fa0>"
            ]
          },
          "metadata": {},
          "execution_count": 24
        },
        {
          "output_type": "display_data",
          "data": {
            "text/plain": [
              "<Figure size 432x288 with 1 Axes>"
            ],
            "image/png": "[encoded data removed]"
          },
          "metadata": {
            "needs_background": "light"
          }
        }
      ]
    },
    {
      "cell_type": "code",
      "source": [
        "plt.title('For split(60:40)')\n",
        "plt.plot(k, A2l1, color='r', label='test-accuracy for l1')\n",
        "plt.plot(k, A2l2, color='g', label='test accuracy for l2')\n",
        "plt.scatter(k, A2l1, color='r')\n",
        "plt.scatter(k, A2l2, color='g')\n",
        "plt.legend()"
      ],
      "metadata": {
        "colab": {
          "base_uri": "https://localhost:8080/",
          "height": 298
        },
        "id": "cxAA3xuPwapr",
        "outputId": "71e18abb-d0c3-4586-cb7f-c58d275e68f4"
      },
      "execution_count": 25,
      "outputs": [
        {
          "output_type": "execute_result",
          "data": {
            "text/plain": [
              "<matplotlib.legend.Legend at 0x7fcc622c8040>"
            ]
          },
          "metadata": {},
          "execution_count": 25
        },
        {
          "output_type": "display_data",
          "data": {
            "text/plain": [
              "<Figure size 432x288 with 1 Axes>"
            ],
            "image/png": "[encoded data removed]"
          },
          "metadata": {
            "needs_background": "light"
          }
        }
      ]
    },
    {
      "cell_type": "code",
      "source": [
        "plt.title('For split(70:30)')\n",
        "plt.plot(k, A3l1, color='r', label='test-accuracy for l1')\n",
        "plt.plot(k, A3l2, color='g', label='test accuracy for l2')\n",
        "plt.scatter(k, A3l1, color='r')\n",
        "plt.scatter(k, A3l2, color='g')\n",
        "plt.legend()"
      ],
      "metadata": {
        "colab": {
          "base_uri": "https://localhost:8080/",
          "height": 298
        },
        "id": "vXrAwjzJwugJ",
        "outputId": "237ba399-09ec-4ca6-cd82-c3356040cc68"
      },
      "execution_count": 26,
      "outputs": [
        {
          "output_type": "execute_result",
          "data": {
            "text/plain": [
              "<matplotlib.legend.Legend at 0x7fcc6777be20>"
            ]
          },
          "metadata": {},
          "execution_count": 26
        },
        {
          "output_type": "display_data",
          "data": {
            "text/plain": [
              "<Figure size 432x288 with 1 Axes>"
            ],
            "image/png": "[encoded data removed]"
          },
          "metadata": {
            "needs_background": "light"
          }
        }
      ]
    },
    {
      "cell_type": "code",
      "source": [
        "plt.title('For split(60:40)')\n",
        "plt.plot(k, A4l1, color='r', label='test-accuracy for l1')\n",
        "plt.plot(k, A4l2, color='g', label='test accuracy for l2')\n",
        "plt.scatter(k, A4l1, color='r')\n",
        "plt.scatter(k, A4l2, color='g')\n",
        "plt.legend()"
      ],
      "metadata": {
        "colab": {
          "base_uri": "https://localhost:8080/",
          "height": 298
        },
        "id": "wdMBgIG4wxM_",
        "outputId": "74f6274d-4ee0-47f4-a526-52cf6f563dcd"
      },
      "execution_count": 27,
      "outputs": [
        {
          "output_type": "execute_result",
          "data": {
            "text/plain": [
              "<matplotlib.legend.Legend at 0x7fcc64d4f520>"
            ]
          },
          "metadata": {},
          "execution_count": 27
        },
        {
          "output_type": "display_data",
          "data": {
            "text/plain": [
              "<Figure size 432x288 with 1 Axes>"
            ],
            "image/png": "[encoded data removed]"
          },
          "metadata": {
            "needs_background": "light"
          }
        }
      ]
    },
    {
      "cell_type": "code",
      "source": [],
      "metadata": {
        "id": "DaXWB_GGiWRn"
      },
      "execution_count": 27,
      "outputs": []
    }
  ]
}